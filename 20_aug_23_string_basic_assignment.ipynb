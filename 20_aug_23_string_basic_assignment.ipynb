{
 "cells": [
  {
   "cell_type": "markdown",
   "id": "6e757a5a-6f40-439a-a451-3c73e5e1d905",
   "metadata": {},
   "source": [
    "### TOPIC: String Based Assignment Problem"
   ]
  },
  {
   "cell_type": "markdown",
   "id": "65f7a188-a7ab-4e66-9731-2f768fd6727d",
   "metadata": {},
   "source": [
    "### Ques_1- Write a program to reverse a string."
   ]
  },
  {
   "cell_type": "code",
   "execution_count": 1,
   "id": "30756574-0ae9-4ded-bc3c-5035a52fa5a6",
   "metadata": {},
   "outputs": [],
   "source": [
    "a = \"intelligent\""
   ]
  },
  {
   "cell_type": "code",
   "execution_count": 2,
   "id": "fbba26fc-25b7-4311-9d53-39efbe5e1217",
   "metadata": {},
   "outputs": [
    {
     "data": {
      "text/plain": [
       "'tnegilletni'"
      ]
     },
     "execution_count": 2,
     "metadata": {},
     "output_type": "execute_result"
    }
   ],
   "source": [
    "a[::-1]"
   ]
  },
  {
   "cell_type": "markdown",
   "id": "ce8a2503-a057-4616-9344-771b062534cc",
   "metadata": {},
   "source": [
    "#####               or"
   ]
  },
  {
   "cell_type": "code",
   "execution_count": 3,
   "id": "683dc4d0-1135-4a57-a150-b1d020feb26b",
   "metadata": {},
   "outputs": [
    {
     "name": "stdout",
     "output_type": "stream",
     "text": [
      "s 7\n",
      "l 6\n",
      "l 5\n",
      "i 4\n",
      "k 3\n",
      "s 2\n",
      "w 1\n",
      "p 0\n"
     ]
    }
   ],
   "source": [
    "a = \"pwskills\"\n",
    "for i in range(len(a)-1,-1,-1):\n",
    "    print(a[i],i)"
   ]
  },
  {
   "cell_type": "markdown",
   "id": "ca7dbe22-e41f-4471-90a3-adf086842a1e",
   "metadata": {},
   "source": [
    "### Ques_2 - Check if a string is a palindrome."
   ]
  },
  {
   "cell_type": "code",
   "execution_count": 4,
   "id": "6cda16f7-e6be-4ecf-aea9-9b5beb4e79cf",
   "metadata": {},
   "outputs": [
    {
     "name": "stdout",
     "output_type": "stream",
     "text": [
      "it is palindrome\n"
     ]
    }
   ],
   "source": [
    "a = \"kayak\"\n",
    "b = a[::-1]\n",
    "if a==b:\n",
    "    print(\"it is palindrome\")\n",
    "else:\n",
    "    print(\"it is not palindrone\")"
   ]
  },
  {
   "cell_type": "markdown",
   "id": "811f412b-e0a2-48fe-a988-05cb1ab3bf6e",
   "metadata": {},
   "source": [
    "### Ques_3 -  Convert a string to uppercase"
   ]
  },
  {
   "cell_type": "code",
   "execution_count": 5,
   "id": "3ac63f9e-b9b1-4426-93bc-6b85a96a408e",
   "metadata": {},
   "outputs": [
    {
     "data": {
      "text/plain": [
       "'GAURAV SINGH'"
      ]
     },
     "execution_count": 5,
     "metadata": {},
     "output_type": "execute_result"
    }
   ],
   "source": [
    "str = \"gaurav singh\"\n",
    "str.upper()"
   ]
  },
  {
   "cell_type": "markdown",
   "id": "6b58cb9a-3ce7-4a0c-9ab5-0adab76f3bf8",
   "metadata": {},
   "source": [
    "### Ques_4 -Convert a string to lowercase."
   ]
  },
  {
   "cell_type": "code",
   "execution_count": 6,
   "id": "b5e1ab99-e8f1-4518-bbb6-70a5c7bf6c40",
   "metadata": {},
   "outputs": [],
   "source": [
    "s = \"GAURAV KUMAR SINGH \""
   ]
  },
  {
   "cell_type": "code",
   "execution_count": 7,
   "id": "ec95edbf-0e3c-45fe-98a2-fe89262294c3",
   "metadata": {},
   "outputs": [
    {
     "data": {
      "text/plain": [
       "'gaurav kumar singh '"
      ]
     },
     "execution_count": 7,
     "metadata": {},
     "output_type": "execute_result"
    }
   ],
   "source": [
    "s.lower()"
   ]
  },
  {
   "cell_type": "markdown",
   "id": "9835590e-c4e2-41b9-ae35-2059878bc2ee",
   "metadata": {},
   "source": [
    "### Ques_5 -Count the number of vowels in a string"
   ]
  },
  {
   "cell_type": "code",
   "execution_count": 9,
   "id": "5a12146b-14bf-4449-a99f-78c832ddcd96",
   "metadata": {},
   "outputs": [
    {
     "name": "stdin",
     "output_type": "stream",
     "text": [
      "enter the sentence hello world\n"
     ]
    },
    {
     "name": "stdout",
     "output_type": "stream",
     "text": [
      "vowel 3\n"
     ]
    }
   ],
   "source": [
    "a = input('enter the sentence')\n",
    "low = a.lower()\n",
    "l = ['a','e','u','i','o']\n",
    "count = 0\n",
    "for i in low:\n",
    "    if i in l :\n",
    "        count+=1\n",
    "print(\"vowel\",count)"
   ]
  },
  {
   "cell_type": "markdown",
   "id": "8e6f0803-3417-4e47-8726-2581bca6c41d",
   "metadata": {},
   "source": [
    "### Ques_6- Count the number of consonants in a string."
   ]
  },
  {
   "cell_type": "code",
   "execution_count": 1,
   "id": "5e131a2a-d70b-40c7-9393-5d5049f63fad",
   "metadata": {},
   "outputs": [],
   "source": [
    "def count_vowel(sentence) :\n",
    "    vowels = \"bcdfghjklmnpqrstvwxyz\"\n",
    "    vowel_count = 0\n",
    "    for i in sentence:\n",
    "        if i in vowels:\n",
    "            vowel_count += 1\n",
    "    print(vowel_count)\n",
    "    "
   ]
  },
  {
   "cell_type": "code",
   "execution_count": 2,
   "id": "af321673-9792-40d3-9b35-526a74921f8c",
   "metadata": {},
   "outputs": [
    {
     "name": "stdout",
     "output_type": "stream",
     "text": [
      "13\n"
     ]
    }
   ],
   "source": [
    "count_vowel(\"this course is very awsome\")"
   ]
  },
  {
   "cell_type": "markdown",
   "id": "1a8570db-ebdd-4d0a-bb99-0eb0efe21c4f",
   "metadata": {},
   "source": [
    "### Ques_7 - Remove all whitespaces from a string.\n"
   ]
  },
  {
   "cell_type": "code",
   "execution_count": 9,
   "id": "6a9e2e56-15a4-46ac-9530-a569566ab64f",
   "metadata": {},
   "outputs": [
    {
     "name": "stdout",
     "output_type": "stream",
     "text": [
      "  pwskills  \n",
      "pwskills\n"
     ]
    }
   ],
   "source": [
    "s = '  pwskills  '\n",
    "print(s)\n",
    "print(s.strip())"
   ]
  },
  {
   "cell_type": "code",
   "execution_count": null,
   "id": "68e2a087-c766-4358-a9db-6eb2bb52f65f",
   "metadata": {},
   "outputs": [],
   "source": []
  },
  {
   "cell_type": "markdown",
   "id": "6d3b0144-5063-4c26-89de-04f7ed65340a",
   "metadata": {},
   "source": [
    "### Ques_8- Find the length of a string without using the `len()` function.\n"
   ]
  },
  {
   "cell_type": "code",
   "execution_count": 11,
   "id": "db62895b-fc73-4889-a93a-48ef4f16b28a",
   "metadata": {},
   "outputs": [
    {
     "name": "stdin",
     "output_type": "stream",
     "text": [
      "enter the sentence :- this class is very good\n"
     ]
    },
    {
     "name": "stdout",
     "output_type": "stream",
     "text": [
      "23\n"
     ]
    }
   ],
   "source": [
    "s = input('enter the sentence :-')\n",
    "count = 0\n",
    "for i in s :\n",
    "    count = count + 1 \n",
    "print(count)"
   ]
  },
  {
   "cell_type": "markdown",
   "id": "f3052df5-5fad-423d-bae3-518d2cd3719e",
   "metadata": {},
   "source": [
    "### Ques_9 - Check if a string contains a specific word"
   ]
  },
  {
   "cell_type": "code",
   "execution_count": 13,
   "id": "8d3b3a7f-0e12-4f33-a7aa-5f5470a489de",
   "metadata": {},
   "outputs": [
    {
     "name": "stdout",
     "output_type": "stream",
     "text": [
      "yes , it is specific word\n"
     ]
    }
   ],
   "source": [
    "string = \"this is a python class\"\n",
    "check = \"python\"\n",
    "if check in string :\n",
    "    print(\"yes , it is specific word\")\n",
    "else :\n",
    "    print(\"No , it is not specific word\")"
   ]
  },
  {
   "cell_type": "code",
   "execution_count": null,
   "id": "5e76d55f-600c-43cc-9a7d-b00f631ca987",
   "metadata": {},
   "outputs": [],
   "source": []
  },
  {
   "cell_type": "markdown",
   "id": "07c99f2a-d67c-4a45-8103-c2407376e35e",
   "metadata": {},
   "source": [
    "### Ques_10 - Replace a word in a string with another word."
   ]
  },
  {
   "cell_type": "code",
   "execution_count": 17,
   "id": "277c87b6-b5cd-44ba-a1d0-9577f80f98fc",
   "metadata": {},
   "outputs": [
    {
     "name": "stdout",
     "output_type": "stream",
     "text": [
      "good pwskills\n"
     ]
    }
   ],
   "source": [
    "s = 'hello pwskills'\n",
    "new_str = s.replace('hello','good')\n",
    "print(new_str)"
   ]
  },
  {
   "cell_type": "code",
   "execution_count": null,
   "id": "4b7e2639-aac4-4568-8700-910715ed3923",
   "metadata": {},
   "outputs": [],
   "source": []
  },
  {
   "cell_type": "markdown",
   "id": "115e2778-f7db-407a-81cf-e947a5c29e42",
   "metadata": {},
   "source": [
    "### Ques_11 -  Count the occurrences of a word in a string"
   ]
  },
  {
   "cell_type": "code",
   "execution_count": 1,
   "id": "ca12edb3-fa7b-4938-9bf2-d83dacc9f5f6",
   "metadata": {},
   "outputs": [
    {
     "name": "stdout",
     "output_type": "stream",
     "text": [
      "2\n"
     ]
    }
   ],
   "source": [
    "count_string = \"hello world is the famous word and hello world always use in python\"\n",
    "accurrence  = count_string.count(\"hello\")\n",
    "print(accurrence )"
   ]
  },
  {
   "cell_type": "markdown",
   "id": "e407271d-f855-4459-9610-c1e6a0e28eb2",
   "metadata": {},
   "source": [
    "### Ques_12 Find the first occurrence of a word in a string."
   ]
  },
  {
   "cell_type": "code",
   "execution_count": 2,
   "id": "f0dcbb3b-3959-45f7-8f02-df41ee96611a",
   "metadata": {},
   "outputs": [
    {
     "name": "stdout",
     "output_type": "stream",
     "text": [
      "4\n"
     ]
    }
   ],
   "source": [
    "word = 'the python language is the best way analyise the data'\n",
    "result = word.index(\"python\")\n",
    "print(result)"
   ]
  },
  {
   "cell_type": "markdown",
   "id": "61cce2dd-f591-4a03-a872-c4f841ab823a",
   "metadata": {},
   "source": [
    "###  Ques_13 -  Find the last occurrence of a word in a string"
   ]
  },
  {
   "cell_type": "code",
   "execution_count": 16,
   "id": "73c5d2b8-0aeb-46c7-8fc2-9c474f8626de",
   "metadata": {},
   "outputs": [
    {
     "name": "stdout",
     "output_type": "stream",
     "text": [
      "45\n"
     ]
    }
   ],
   "source": [
    "word = 'the python language is the best way analyise the data'\n",
    "result = word.rindex(\"the\")\n",
    "print(result)"
   ]
  },
  {
   "cell_type": "code",
   "execution_count": null,
   "id": "5e98a86a-6f77-48e5-9f6c-a02389fadf29",
   "metadata": {},
   "outputs": [],
   "source": []
  },
  {
   "cell_type": "markdown",
   "id": "0b8f6dd5-e4b8-4e48-9f6f-9c159c84e0a0",
   "metadata": {},
   "source": [
    "### Ques_14 -Split a string into a list of words.\n"
   ]
  },
  {
   "cell_type": "code",
   "execution_count": 1,
   "id": "ebf36dad-b5f3-4365-8593-632396db9ccb",
   "metadata": {},
   "outputs": [
    {
     "name": "stdout",
     "output_type": "stream",
     "text": [
      "['this', 'is', 'a', 'python', 'language']\n"
     ]
    }
   ],
   "source": [
    "string = \"this is a python language\"\n",
    "split_string = string.split()\n",
    "print(split_string)"
   ]
  },
  {
   "cell_type": "markdown",
   "id": "d0af40d0-c481-432d-8bfc-2319eedbfc81",
   "metadata": {},
   "source": [
    "### Ques_15 -  Join a list of words into a string"
   ]
  },
  {
   "cell_type": "code",
   "execution_count": 22,
   "id": "ef046283-feed-447c-a758-066355a81f43",
   "metadata": {},
   "outputs": [
    {
     "name": "stdout",
     "output_type": "stream",
     "text": [
      "my , name , is , gaurav\n"
     ]
    }
   ],
   "source": [
    "list_word = ['my','name','is','gaurav']\n",
    "space = \" , \"\n",
    "join_string= (space.join(list_word))\n",
    "print(join_string)"
   ]
  },
  {
   "cell_type": "code",
   "execution_count": 8,
   "id": "685cbd67-f823-43b8-aec9-e0cba579a7d9",
   "metadata": {},
   "outputs": [
    {
     "data": {
      "text/plain": [
       "list"
      ]
     },
     "execution_count": 8,
     "metadata": {},
     "output_type": "execute_result"
    }
   ],
   "source": []
  },
  {
   "cell_type": "markdown",
   "id": "2e3771e5-76dd-4677-8f93-196ebfdc4e4d",
   "metadata": {},
   "source": [
    "### Ques_16-Convert a string where words are separated by spaces to one where words are separated by underscores"
   ]
  },
  {
   "cell_type": "code",
   "execution_count": 5,
   "id": "47a0a426-0be2-4b54-bccf-fde5e96c7797",
   "metadata": {},
   "outputs": [
    {
     "name": "stdout",
     "output_type": "stream",
     "text": [
      "this_is_a_pen\n"
     ]
    }
   ],
   "source": [
    "string = \"this is a pen\"\n",
    "underscore = string.replace(\" \",\"_\")\n",
    "print(underscore)"
   ]
  },
  {
   "cell_type": "code",
   "execution_count": null,
   "id": "99660cc8-ca14-49fc-8674-4b3ae969a84a",
   "metadata": {},
   "outputs": [],
   "source": []
  },
  {
   "cell_type": "markdown",
   "id": "4cf31105-cc2d-4165-8ab0-f51c7454a190",
   "metadata": {},
   "source": [
    "### Ques_17- Check if a string starts with a specific word or phrase"
   ]
  },
  {
   "cell_type": "code",
   "execution_count": 3,
   "id": "e745893c-1e59-4124-b0ce-0ca280e7b114",
   "metadata": {},
   "outputs": [
    {
     "name": "stdout",
     "output_type": "stream",
     "text": [
      "yes,this is a  True\n"
     ]
    }
   ],
   "source": [
    "string = \"hello good morning and again\"\n",
    "specific_word = 'hello'\n",
    "result = string.startswith(specific_word)\n",
    "print('yes,this is a ',result)"
   ]
  },
  {
   "cell_type": "code",
   "execution_count": null,
   "id": "3a6d020b-2ee2-46d2-971f-9d071323ad2c",
   "metadata": {},
   "outputs": [],
   "source": []
  },
  {
   "cell_type": "markdown",
   "id": "2440a144-9397-47f6-8c3f-b3bc11bc0fe7",
   "metadata": {},
   "source": [
    "### Ques_18-  Check if a string ends with a specific word or phrase."
   ]
  },
  {
   "cell_type": "code",
   "execution_count": 5,
   "id": "277728df-c8b5-48c6-823f-724a03ff8ec7",
   "metadata": {},
   "outputs": [
    {
     "name": "stdout",
     "output_type": "stream",
     "text": [
      "True\n"
     ]
    }
   ],
   "source": [
    "string = \"python class running is so well\"\n",
    "result = string.endswith(\"well\")\n",
    "print(result)"
   ]
  },
  {
   "cell_type": "code",
   "execution_count": 6,
   "id": "6754d094-16f3-400e-9b28-ecb299cf8050",
   "metadata": {},
   "outputs": [
    {
     "name": "stdout",
     "output_type": "stream",
     "text": [
      "False\n"
     ]
    }
   ],
   "source": [
    "string = \"python class running is so well\"\n",
    "result = string.endswith(\"python\")\n",
    "print(result)"
   ]
  },
  {
   "cell_type": "code",
   "execution_count": null,
   "id": "2695eff5-4554-44f9-ac7a-95e55eb5ff37",
   "metadata": {},
   "outputs": [],
   "source": []
  },
  {
   "cell_type": "markdown",
   "id": "41b6c875-ad35-4c20-a1ae-7f0fdbb24919",
   "metadata": {},
   "source": [
    "### Ques_19-Convert a string to title case (e.g., \"hello world\" to \"Hello World\")."
   ]
  },
  {
   "cell_type": "code",
   "execution_count": 6,
   "id": "93c7a133-3d33-4677-b4bf-8fe57c2a916a",
   "metadata": {},
   "outputs": [
    {
     "name": "stdout",
     "output_type": "stream",
     "text": [
      "Hello World\n"
     ]
    }
   ],
   "source": [
    "string = \"hello world\"\n",
    "title_case = string.title()\n",
    "print(title_case)"
   ]
  },
  {
   "cell_type": "code",
   "execution_count": null,
   "id": "9ff8e137-d5cd-43ba-8bde-c6eebb01d10f",
   "metadata": {},
   "outputs": [],
   "source": []
  },
  {
   "cell_type": "markdown",
   "id": "a810e9b1-b5f9-412c-8530-600ef691163d",
   "metadata": {},
   "source": [
    "### Ques_20- Find the longest word in a string"
   ]
  },
  {
   "cell_type": "code",
   "execution_count": 9,
   "id": "e942f260-8f20-4305-856b-eb7d64c642dd",
   "metadata": {},
   "outputs": [
    {
     "name": "stdin",
     "output_type": "stream",
     "text": [
      "enter the sentence-  Find the greatest word in a string¶\n"
     ]
    },
    {
     "name": "stdout",
     "output_type": "stream",
     "text": [
      "longest word is : greatest\n"
     ]
    }
   ],
   "source": [
    "sentence = input('enter the sentence-')\n",
    "longest = max(sentence.split() , key=len)\n",
    "print('longest word is :' , longest )"
   ]
  },
  {
   "cell_type": "markdown",
   "id": "f45565dc-7f6f-4ec5-9208-dde9a0ce78e6",
   "metadata": {},
   "source": [
    "### or "
   ]
  },
  {
   "cell_type": "code",
   "execution_count": 1,
   "id": "798c6163-2ed3-4c89-9d72-fbfbaaad537c",
   "metadata": {},
   "outputs": [
    {
     "name": "stdout",
     "output_type": "stream",
     "text": [
      "programming\n"
     ]
    }
   ],
   "source": [
    "string = \"this is a programming language\"\n",
    "split = string.split()\n",
    "max = 0\n",
    "for i in split:\n",
    "    if len(i) > max :\n",
    "        max = len(i)\n",
    "        max_word = i\n",
    "print(max_word)"
   ]
  },
  {
   "cell_type": "markdown",
   "id": "0eac6c56-10f0-40ce-a376-4fd33971e921",
   "metadata": {},
   "source": [
    "### Ques_21- . Find the shortest word in a string"
   ]
  },
  {
   "cell_type": "code",
   "execution_count": 11,
   "id": "e2876712-b8b6-402b-b0ac-4b3f7286065d",
   "metadata": {},
   "outputs": [
    {
     "name": "stdin",
     "output_type": "stream",
     "text": [
      " this is a programming language\n"
     ]
    },
    {
     "name": "stdout",
     "output_type": "stream",
     "text": [
      "shortest word is : a\n"
     ]
    }
   ],
   "source": [
    "sentence = input()\n",
    "shortest = min(sentence.split() , key=len)\n",
    "print('shortest word is :' , shortest )"
   ]
  },
  {
   "cell_type": "markdown",
   "id": "c7616285-b280-4f98-9ad9-39478e611d08",
   "metadata": {},
   "source": [
    "### Ques_22- Reverse the order of words in a string"
   ]
  },
  {
   "cell_type": "code",
   "execution_count": 16,
   "id": "23a9746c-b6c5-4374-89f1-46486fd4474c",
   "metadata": {},
   "outputs": [
    {
     "name": "stdout",
     "output_type": "stream",
     "text": [
      "method reverse a is this\n"
     ]
    }
   ],
   "source": [
    "string = \"this is a reverse method\"\n",
    "word = string.split()\n",
    "reverse = word[::-1]\n",
    "result = ' '.join(reverse)\n",
    "print(result)"
   ]
  },
  {
   "cell_type": "code",
   "execution_count": 7,
   "id": "05edae0a-5203-4750-b46e-a7357bb21923",
   "metadata": {},
   "outputs": [
    {
     "data": {
      "text/plain": [
       "'this is a reverse method'"
      ]
     },
     "execution_count": 7,
     "metadata": {},
     "output_type": "execute_result"
    }
   ],
   "source": [
    "string"
   ]
  },
  {
   "cell_type": "markdown",
   "id": "959ea962-d20e-42a3-a636-8df3a7695c74",
   "metadata": {},
   "source": [
    "## or "
   ]
  },
  {
   "cell_type": "code",
   "execution_count": 14,
   "id": "bedd89c4-d093-4b0a-aef2-a941587991e9",
   "metadata": {},
   "outputs": [],
   "source": [
    "def reverse_word(input_string):\n",
    "    words = input_string.split()\n",
    "    reversed_word = words[::-1]\n",
    "    reverse_string = ' '.join(reversed_word)\n",
    "    return reverse_string"
   ]
  },
  {
   "cell_type": "code",
   "execution_count": 15,
   "id": "b56e2caf-3294-436c-ac9e-3eaa84f13bc8",
   "metadata": {},
   "outputs": [
    {
     "name": "stdout",
     "output_type": "stream",
     "text": [
      "language python a is this\n"
     ]
    }
   ],
   "source": [
    "string = 'this is a python language'\n",
    "result = reverse_word(string)\n",
    "print(result)"
   ]
  },
  {
   "cell_type": "markdown",
   "id": "4633f0ca-1bbc-41a3-b002-18f61756c5a5",
   "metadata": {},
   "source": [
    "### Ques_23 - Check if a string is alphanumeric"
   ]
  },
  {
   "cell_type": "code",
   "execution_count": 4,
   "id": "3e78c7c1-0f9a-4bb0-9ca7-2c2bd6f11eec",
   "metadata": {},
   "outputs": [
    {
     "name": "stdout",
     "output_type": "stream",
     "text": [
      "False\n"
     ]
    }
   ],
   "source": [
    "string1 = \"xyz@#$123\"\n",
    "print(string1.isalnum())"
   ]
  },
  {
   "cell_type": "code",
   "execution_count": 3,
   "id": "beb09708-f1fc-4a75-844a-8c62fac8e965",
   "metadata": {},
   "outputs": [
    {
     "name": "stdout",
     "output_type": "stream",
     "text": [
      "True\n"
     ]
    }
   ],
   "source": [
    "string = \"abc123\"\n",
    "print(string.isalnum())"
   ]
  },
  {
   "cell_type": "code",
   "execution_count": null,
   "id": "a4bdbfab-6087-4199-b6bb-e76c7aa7c4b8",
   "metadata": {},
   "outputs": [],
   "source": []
  },
  {
   "cell_type": "markdown",
   "id": "f642d76e-4838-41de-931b-7a833abb586a",
   "metadata": {},
   "source": [
    "### Ques_24- . Extract all digits from a string"
   ]
  },
  {
   "cell_type": "code",
   "execution_count": 5,
   "id": "1e4ec6f8-4ba7-422d-b59b-c6ccc3493215",
   "metadata": {},
   "outputs": [
    {
     "name": "stdout",
     "output_type": "stream",
     "text": [
      "248920"
     ]
    }
   ],
   "source": [
    "a = \"gaur2av4kum8ar9si2ng0h\"\n",
    "for i in a :\n",
    "    if(i.isdigit()):\n",
    "        print(i,end=\"\")"
   ]
  },
  {
   "cell_type": "markdown",
   "id": "e2425466-8cbe-4ffc-9f22-cc2c24d55b2c",
   "metadata": {},
   "source": [
    "### or "
   ]
  },
  {
   "cell_type": "code",
   "execution_count": 10,
   "id": "666eb40c-cc07-4249-a748-1560a0be8f7e",
   "metadata": {},
   "outputs": [
    {
     "name": "stdout",
     "output_type": "stream",
     "text": [
      "12345678\n"
     ]
    }
   ],
   "source": [
    "def extract(string):\n",
    "    digit = \"\"\n",
    "    for i in string:\n",
    "        if i.isdigit():\n",
    "            digit = digit + i \n",
    "    return digit\n",
    "string = \"my12name34is56a78gaurav\"\n",
    "result = extract(string)\n",
    "print(result)"
   ]
  },
  {
   "cell_type": "markdown",
   "id": "5320e453-70f0-4c5f-bea4-c67ec0aa5814",
   "metadata": {},
   "source": [
    "### Ques_25- . Extract all alphabets from a string"
   ]
  },
  {
   "cell_type": "code",
   "execution_count": 3,
   "id": "42d1ade3-edbf-4dff-b464-baf5a0790291",
   "metadata": {},
   "outputs": [
    {
     "name": "stdout",
     "output_type": "stream",
     "text": [
      "manojsingh"
     ]
    }
   ],
   "source": [
    "a = \"man6oj5si4n2gh1\"\n",
    "for i in a :\n",
    "    if(i.isalpha()):\n",
    "        print(i,end=\"\")"
   ]
  },
  {
   "cell_type": "code",
   "execution_count": null,
   "id": "cc02bb4c-d668-42f2-96d1-2bb5bfbc62da",
   "metadata": {},
   "outputs": [],
   "source": []
  },
  {
   "cell_type": "markdown",
   "id": "9efb78a9-5270-46bf-80d5-f16f021bad67",
   "metadata": {},
   "source": [
    "### Ques_26-  Count the number of uppercase letters in a string"
   ]
  },
  {
   "cell_type": "code",
   "execution_count": 11,
   "id": "44b71116-3b13-4dac-adcf-ea6154b99e63",
   "metadata": {},
   "outputs": [
    {
     "name": "stdout",
     "output_type": "stream",
     "text": [
      "the number of uppercaseis 14\n"
     ]
    }
   ],
   "source": [
    "string = \"ABCdefGHIjklMNOpqrSTUvwxYZ\"\n",
    "count = 0\n",
    "for i in string :\n",
    "    if(i.isupper()):\n",
    "        count=count+1\n",
    "print(\"the number of uppercaseis\", count)"
   ]
  },
  {
   "cell_type": "code",
   "execution_count": null,
   "id": "fa5e4696-15bd-4e31-9371-957c19be7164",
   "metadata": {},
   "outputs": [],
   "source": []
  },
  {
   "cell_type": "markdown",
   "id": "17336240-59b2-4a75-ab0b-d5ee806dd713",
   "metadata": {},
   "source": [
    "### Ques_27- Count the number of lowercase letters in a strin"
   ]
  },
  {
   "cell_type": "code",
   "execution_count": 13,
   "id": "3808f385-edfe-4c60-91a8-ed147f906c8d",
   "metadata": {},
   "outputs": [
    {
     "name": "stdout",
     "output_type": "stream",
     "text": [
      "the number of uppercaseis 12\n"
     ]
    }
   ],
   "source": [
    "string2 = \"ABCdefGHIjklMNOpqrSTUvwxYZ\"\n",
    "count2 = 0\n",
    "for i in string2 :\n",
    "    if(i.islower()):\n",
    "        count2=count2+1\n",
    "print(\"the number of uppercaseis\", count2)"
   ]
  },
  {
   "cell_type": "code",
   "execution_count": null,
   "id": "cf522a49-54f3-46b3-b4d7-fa4e214cd39e",
   "metadata": {},
   "outputs": [],
   "source": []
  },
  {
   "cell_type": "markdown",
   "id": "19fe8994-bed6-4096-9109-6052f3945b73",
   "metadata": {},
   "source": [
    "### Quest_28-Swap the case of each character in a string"
   ]
  },
  {
   "cell_type": "code",
   "execution_count": 16,
   "id": "587d4cac-c03f-4bee-9641-bb913fca9ff0",
   "metadata": {},
   "outputs": [
    {
     "name": "stdout",
     "output_type": "stream",
     "text": [
      "MANOJ is a good BOY\n"
     ]
    }
   ],
   "source": [
    "a = \"manoj IS A GOOD boy\"\n",
    "print(a.swapcase())"
   ]
  },
  {
   "cell_type": "code",
   "execution_count": null,
   "id": "d371b9f3-d6f7-4736-b8f3-1977eaef8248",
   "metadata": {},
   "outputs": [],
   "source": []
  },
  {
   "cell_type": "markdown",
   "id": "633b6cb0-3f09-4985-9179-1711f656add4",
   "metadata": {},
   "source": [
    "### Ques_29- . Remove a specific word from a string"
   ]
  },
  {
   "cell_type": "code",
   "execution_count": 13,
   "id": "9a647de3-4792-4fc8-a30d-569f5e747253",
   "metadata": {},
   "outputs": [
    {
     "name": "stdin",
     "output_type": "stream",
     "text": [
      "enter the sentence this is a pen and copy\n"
     ]
    },
    {
     "name": "stdout",
     "output_type": "stream",
     "text": [
      "this is a  bag and copy\n"
     ]
    }
   ],
   "source": [
    "string = input(\"enter the sentence\")\n",
    "new_string = string.replace(\"pen\",\" bag\")\n",
    "print(new_string)"
   ]
  },
  {
   "cell_type": "code",
   "execution_count": null,
   "id": "9d5f7feb-0289-4628-b104-330ee7c61fa8",
   "metadata": {},
   "outputs": [],
   "source": []
  },
  {
   "cell_type": "markdown",
   "id": "57ebc6d5-d938-40ea-add8-54a1e2e7c7bd",
   "metadata": {},
   "source": [
    "### Ques_30 - Check if a string is a valid email address."
   ]
  },
  {
   "cell_type": "code",
   "execution_count": 7,
   "id": "7d4a4308-9b8d-465c-98b4-91a058155831",
   "metadata": {},
   "outputs": [
    {
     "name": "stdout",
     "output_type": "stream",
     "text": [
      "False\n"
     ]
    }
   ],
   "source": [
    "import re\n",
    "def solve(s):\n",
    "    pat = \"^[a-z A-Z 0-9-_]+@[a-z A-Z 0-9]+\\.[A-Z]{1,3}$\"\n",
    "    if re.match(pat,s):\n",
    "        return True\n",
    "    return False \n",
    "s = \"gauravmzp17@gmail.com\" \n",
    "print(solve(s))"
   ]
  },
  {
   "cell_type": "code",
   "execution_count": 4,
   "id": "a627b4ca-a92a-42cf-a627-01ac4afe672d",
   "metadata": {},
   "outputs": [
    {
     "name": "stdout",
     "output_type": "stream",
     "text": [
      "True\n"
     ]
    }
   ],
   "source": [
    "import re\n",
    "def solve(a):\n",
    "    pat = \"^[a-zA-Z0-9-_]+@[a-zA-Z0-9]+\\.[a-z]{1,3}$\"\n",
    "    if re.match(pat,a):\n",
    "        return True\n",
    "    return False \n",
    "a = \"gauravsingh17@gamil.com\" \n",
    "print(solve(a))"
   ]
  },
  {
   "cell_type": "code",
   "execution_count": 14,
   "id": "16903d8e-82e6-4904-bc0e-80b0b551fc0d",
   "metadata": {},
   "outputs": [
    {
     "name": "stdout",
     "output_type": "stream",
     "text": [
      "right\n"
     ]
    }
   ],
   "source": [
    "import re \n",
    "condition = \"^[a-z]+[\\._]?[a-z 0-9]+[@]\\w+[.]\\w{2,3}$\"\n",
    "email =\"gauravmzp17@gamil.com\"\n",
    "if re.search(condition,email):\n",
    "    print(\"right\")\n",
    "else :\n",
    "    print(\"wromg\")"
   ]
  },
  {
   "cell_type": "markdown",
   "id": "a9cb696c-7a52-418d-933e-e9193c77873a",
   "metadata": {},
   "source": [
    " ### Ques_31- Extract the username from an email address string.\n"
   ]
  },
  {
   "cell_type": "code",
   "execution_count": 41,
   "id": "70522338-1c26-43ef-930e-da11aab2d01c",
   "metadata": {},
   "outputs": [
    {
     "name": "stdout",
     "output_type": "stream",
     "text": [
      "gauravmzp17\n"
     ]
    }
   ],
   "source": [
    "email = \"gauravmzp17@gamil.com\"\n",
    "username, mail = email.split(\"@\")\n",
    "print(username)"
   ]
  },
  {
   "cell_type": "code",
   "execution_count": null,
   "id": "1173eb8b-e808-42d2-80d2-dd0e96326fe0",
   "metadata": {},
   "outputs": [],
   "source": []
  },
  {
   "cell_type": "markdown",
   "id": "b55a6e6b-7f27-4ec1-abca-c274ab021815",
   "metadata": {},
   "source": [
    "### Ques_32 - Extract the domain name from an email address string"
   ]
  },
  {
   "cell_type": "code",
   "execution_count": 42,
   "id": "8fd114d2-0f43-4dc5-9001-f28bd0354ea9",
   "metadata": {},
   "outputs": [
    {
     "name": "stdout",
     "output_type": "stream",
     "text": [
      "gamil.com\n"
     ]
    }
   ],
   "source": [
    "email = \"gauravmzp17@gamil.com\"\n",
    "username, mail = email.split(\"@\")\n",
    "print(mail)"
   ]
  },
  {
   "cell_type": "code",
   "execution_count": null,
   "id": "90436438-8fb0-4e40-86cb-78614155392e",
   "metadata": {},
   "outputs": [],
   "source": []
  },
  {
   "cell_type": "markdown",
   "id": "9dc431b2-13d1-48ac-b977-f4da1a5c442a",
   "metadata": {},
   "source": [
    "### Ques_33- Replace multiple spaces in a string with a single space."
   ]
  },
  {
   "cell_type": "code",
   "execution_count": 6,
   "id": "33021662-3687-4d26-95de-e656a4bfe5be",
   "metadata": {},
   "outputs": [
    {
     "name": "stdout",
     "output_type": "stream",
     "text": [
      "i am a student\n"
     ]
    }
   ],
   "source": [
    "import re\n",
    "s = \"i am   a   student\"\n",
    "replace_space = re.sub(' +',' ',s)\n",
    "print(replace_space)"
   ]
  },
  {
   "cell_type": "markdown",
   "id": "092cc3f0-6c51-444e-bcb4-f6174eebdaa2",
   "metadata": {},
   "source": [
    "### or"
   ]
  },
  {
   "cell_type": "code",
   "execution_count": 7,
   "id": "c040f72b-63ff-4f3e-be32-bde51fc12bed",
   "metadata": {},
   "outputs": [
    {
     "name": "stdout",
     "output_type": "stream",
     "text": [
      "this is a pen and copy\n"
     ]
    }
   ],
   "source": [
    "string = 'this     is  a   pen  and   copy'\n",
    "result = ' '.join(string.split())\n",
    "print(result)"
   ]
  },
  {
   "cell_type": "code",
   "execution_count": null,
   "id": "3b363ce5-419f-43a5-ad17-425a3ad15035",
   "metadata": {},
   "outputs": [],
   "source": []
  },
  {
   "cell_type": "markdown",
   "id": "e9003cb9-5d8d-405f-b7af-395c58df127e",
   "metadata": {},
   "source": [
    "### Ques_34- Check if a string is a valid URL"
   ]
  },
  {
   "cell_type": "code",
   "execution_count": 4,
   "id": "295993a6-6343-4772-8a19-8148b3a9263f",
   "metadata": {},
   "outputs": [
    {
     "name": "stdout",
     "output_type": "stream",
     "text": [
      "is a valid URL ['https://pro.pwskills.org/user']\n"
     ]
    }
   ],
   "source": [
    " def find(string):\n",
    "        x = string.split()\n",
    "        result=[]\n",
    "        for i in x :\n",
    "            if i.startswith('https:') or i.startswith('http:'):\n",
    "                result.append(i)\n",
    "        return result\n",
    "string = \"https://pro.pwskills.org/user\"\n",
    "print('is a valid URL',find(string))"
   ]
  },
  {
   "cell_type": "code",
   "execution_count": null,
   "id": "1599033b-c617-4ccf-9d37-f485cedf62dd",
   "metadata": {},
   "outputs": [],
   "source": []
  },
  {
   "cell_type": "markdown",
   "id": "df72eb2b-bdf7-4bdc-86d7-626673e0b930",
   "metadata": {},
   "source": [
    "### Ques_35- Extract the protocol (http or https) from a URL string."
   ]
  },
  {
   "cell_type": "code",
   "execution_count": 5,
   "id": "c97762da-1ba3-49fb-a726-55351cde8ff4",
   "metadata": {},
   "outputs": [
    {
     "name": "stdout",
     "output_type": "stream",
     "text": [
      "The protocol of the URL is: https\n"
     ]
    }
   ],
   "source": [
    "from urllib.parse import urlparse\n",
    "\n",
    "def extract_protocol(url):\n",
    "    parsed_url = urlparse(url)\n",
    "    return parsed_url.scheme\n",
    "\n",
    "url_to_extract = \"https://www.example.com/path/to/resource\"\n",
    "protocol = extract_protocol(url_to_extract)\n",
    "print(f\"The protocol of the URL is: {protocol}\")"
   ]
  },
  {
   "cell_type": "code",
   "execution_count": null,
   "id": "1d17f561-321d-4811-b07b-0282c2f82eb7",
   "metadata": {},
   "outputs": [],
   "source": []
  },
  {
   "cell_type": "markdown",
   "id": "bd093987-0dd8-47f0-9e93-46f72c10ca31",
   "metadata": {},
   "source": [
    "### Ques_36 - Find the frequency of each character in a string"
   ]
  },
  {
   "cell_type": "code",
   "execution_count": 17,
   "id": "8f0cd512-00d0-4753-b7e3-57d6293fb638",
   "metadata": {},
   "outputs": [
    {
     "name": "stdout",
     "output_type": "stream",
     "text": [
      "h occur 2\n",
      "e occur 1\n",
      "l occur 2\n",
      "o occur 2\n",
      "  occur 1\n",
      "p occur 1\n",
      "y occur 1\n",
      "t occur 1\n",
      "n occur 1\n"
     ]
    }
   ],
   "source": [
    "string = \"hello python\"\n",
    "dicts = {}\n",
    "for i in string :\n",
    "    if i in dicts :\n",
    "        dicts[i] = dicts[i] + 1\n",
    "    else :\n",
    "        dicts[i] = 1\n",
    "for key , value in dicts.items():\n",
    "    print(f\"{key} occur {value}\")"
   ]
  },
  {
   "cell_type": "code",
   "execution_count": null,
   "id": "8afc2d23-7244-4e33-a756-06af9a14ca40",
   "metadata": {},
   "outputs": [],
   "source": []
  },
  {
   "cell_type": "markdown",
   "id": "245e8632-b462-461a-a60f-3e8fe5d3735a",
   "metadata": {},
   "source": [
    "### Ques_37 -Remove all punctuation from a string"
   ]
  },
  {
   "cell_type": "code",
   "execution_count": 29,
   "id": "7a273022-4c17-4242-83d7-e69b1f738c44",
   "metadata": {},
   "outputs": [
    {
     "name": "stdout",
     "output_type": "stream",
     "text": [
      "hello python how are you\n"
     ]
    }
   ],
   "source": [
    "punch = '''!@#$%^&*()_+-={}[]:\"|;'\\<>?,./'''\n",
    "string = \"hello@! python$% how^& are!@ you\"\n",
    "empty = \"\"\n",
    "for i in string :\n",
    "    if i not in punch :\n",
    "        empty = empty + i\n",
    "        \n",
    "print(empty)"
   ]
  },
  {
   "cell_type": "code",
   "execution_count": null,
   "id": "84b0d0c9-a51f-4ede-84c6-f7749f75dbe3",
   "metadata": {},
   "outputs": [],
   "source": []
  },
  {
   "cell_type": "markdown",
   "id": "05da106f-2413-4882-864d-34da54cd279f",
   "metadata": {},
   "source": [
    "### Ques_38- Check if a string contains only digits"
   ]
  },
  {
   "cell_type": "code",
   "execution_count": 6,
   "id": "e8ceeec3-2b02-4148-aab7-e8f67d2a5155",
   "metadata": {},
   "outputs": [
    {
     "name": "stdout",
     "output_type": "stream",
     "text": [
      "yes\n"
     ]
    }
   ],
   "source": [
    "string = \"1234\"\n",
    "if string.isdigit() :\n",
    "    print(\"yes\")\n",
    "else :\n",
    "    print(\"no\")"
   ]
  },
  {
   "cell_type": "code",
   "execution_count": null,
   "id": "786deb62-9800-408b-a36c-2c8aab13d533",
   "metadata": {},
   "outputs": [],
   "source": []
  },
  {
   "cell_type": "markdown",
   "id": "899894e6-de79-4a4e-8557-d8cc70b1faed",
   "metadata": {},
   "source": [
    "### Ques_39 -Check if a string contains only alphabets."
   ]
  },
  {
   "cell_type": "code",
   "execution_count": 9,
   "id": "24c7c9f5-f5d8-49d5-8420-ef46616d64ca",
   "metadata": {},
   "outputs": [
    {
     "name": "stdout",
     "output_type": "stream",
     "text": [
      "yes\n"
     ]
    }
   ],
   "source": [
    "string = \"study\"\n",
    "if string.isalpha():\n",
    "    print('yes')\n",
    "else :\n",
    "    print(\"no\")"
   ]
  },
  {
   "cell_type": "code",
   "execution_count": null,
   "id": "a1f5ab57-ce31-4e4d-8b7f-dee7ed0bbf27",
   "metadata": {},
   "outputs": [],
   "source": []
  },
  {
   "cell_type": "markdown",
   "id": "9b087ed1-c05d-4dac-81fb-73116467390f",
   "metadata": {},
   "source": [
    "### Ques_40- Convert a string to a list of characters"
   ]
  },
  {
   "cell_type": "code",
   "execution_count": 31,
   "id": "136cce84-893f-4528-873f-71f9a17f0262",
   "metadata": {},
   "outputs": [
    {
     "name": "stdout",
     "output_type": "stream",
     "text": [
      "['p', 'w', 's', 'k', 'i', 'l', 'l', 's']\n"
     ]
    }
   ],
   "source": [
    "string = \"pwskills\"\n",
    "list_str = list(string)\n",
    "print(list_str)"
   ]
  },
  {
   "cell_type": "code",
   "execution_count": null,
   "id": "8868b5bd-8750-4acd-bf59-06e574c3a15a",
   "metadata": {},
   "outputs": [],
   "source": []
  },
  {
   "cell_type": "markdown",
   "id": "dd6e36af-fde3-47a9-bf0c-da10bce7f5e3",
   "metadata": {},
   "source": [
    "### Ques_41. Check if two strings are anagrams."
   ]
  },
  {
   "cell_type": "code",
   "execution_count": 3,
   "id": "94e377d5-6bff-4426-94ba-a12006a7572f",
   "metadata": {},
   "outputs": [
    {
     "name": "stdin",
     "output_type": "stream",
     "text": [
      "enter the string1 silent\n",
      "enter the string2 listen\n"
     ]
    },
    {
     "name": "stdout",
     "output_type": "stream",
     "text": [
      "it is anagram\n"
     ]
    }
   ],
   "source": [
    "string1 = input(\"enter the string1\")\n",
    "string2 = input(\"enter the string2\")\n",
    "if sorted(string1) == sorted(string2):\n",
    "    print(\"it is anagram\")\n",
    "else :\n",
    "    print(\"it is not anagram\")"
   ]
  },
  {
   "cell_type": "code",
   "execution_count": null,
   "id": "c67032bc-208b-4a1b-b767-0fd9119828ea",
   "metadata": {},
   "outputs": [],
   "source": []
  },
  {
   "cell_type": "markdown",
   "id": "99ca590f-b171-476d-b0c2-b2ee6b78a520",
   "metadata": {},
   "source": [
    "### Ques_42. Encode a string using a Caesar cipher."
   ]
  },
  {
   "cell_type": "code",
   "execution_count": 11,
   "id": "4e0b97e5-939d-487a-9992-5ef101a2d04c",
   "metadata": {},
   "outputs": [
    {
     "name": "stdin",
     "output_type": "stream",
     "text": [
      "type your message-- hello\n",
      "enter shift key-- 3\n"
     ]
    },
    {
     "name": "stdout",
     "output_type": "stream",
     "text": [
      "after encode-- khoor\n"
     ]
    }
   ],
   "source": [
    "alphabet = \"a b c d e f g h i j k l m n o p q r s t u v w x y z\"\n",
    "alpha = alphabet.split()\n",
    "def encode(plain_text,shift_key):\n",
    "    cipher_text = \"\"\n",
    "    for i in plain_text :\n",
    "        position=alpha.index(i)\n",
    "        new_position=(position+shift_key)%26\n",
    "        cipher_text = cipher_text+alpha[new_position]\n",
    "    print(\"after encode--\",cipher_text)\n",
    "\n",
    "plain_text = input('type your message--')\n",
    "shift_key =int(input('enter shift key--'))\n",
    "encrypt = encode(plain_text,shift_key)\n"
   ]
  },
  {
   "cell_type": "markdown",
   "id": "fb1c503b-a709-481d-b1f9-c5b044b0c1ec",
   "metadata": {},
   "source": [
    "### Ques_43. Decode a Caesar cipher encoded string"
   ]
  },
  {
   "cell_type": "code",
   "execution_count": 10,
   "id": "bc70a8ea-f298-4d03-b1d8-dcc1e694982c",
   "metadata": {},
   "outputs": [
    {
     "name": "stdin",
     "output_type": "stream",
     "text": [
      "type your message-- khoor\n",
      "enter shift key-- 3\n"
     ]
    },
    {
     "name": "stdout",
     "output_type": "stream",
     "text": [
      "after decode-- hello\n"
     ]
    }
   ],
   "source": [
    "alphabet = \"a b c d e f g h i j k l m n o p q r s t u v w x y z\"\n",
    "alpha = alphabet.split()\n",
    "def decode(cipher_text,shift_key):\n",
    "    plain_text = \"\"\n",
    "    for i in cipher_text :\n",
    "        position=alpha.index(i)\n",
    "        new_position=(position-shift_key)%26\n",
    "        plain_text = plain_text+alpha[new_position]\n",
    "    print(\"after decode--\",plain_text)\n",
    "\n",
    "cipher_text = input('type your message--')\n",
    "shift_key =int(input('enter shift key--'))\n",
    "decrypt = decode(cipher_text,shift_key)\n"
   ]
  },
  {
   "cell_type": "code",
   "execution_count": null,
   "id": "bb8038bb-1b9a-4dbd-968a-1bfa483c3152",
   "metadata": {},
   "outputs": [],
   "source": []
  },
  {
   "cell_type": "markdown",
   "id": "c199f94e-4ec5-4688-a452-75c8b97a81c0",
   "metadata": {},
   "source": [
    "### Ques_44. Find the most frequent word in a string"
   ]
  },
  {
   "cell_type": "code",
   "execution_count": 15,
   "id": "0495ef86-c846-41f0-a313-525f7cf85172",
   "metadata": {},
   "outputs": [
    {
     "name": "stdin",
     "output_type": "stream",
     "text": [
      "enter the sentence hello python hello world hello gaurav\n"
     ]
    },
    {
     "name": "stdout",
     "output_type": "stream",
     "text": [
      "{'hello': 3, 'python': 1, 'world': 1, 'gaurav': 1}\n"
     ]
    }
   ],
   "source": [
    "string = input(\"enter the sentence\")\n",
    "split_string = string.split()\n",
    "count = {}\n",
    "for i in split_string :\n",
    "    if i not in count.keys() :\n",
    "        count[i] = 0\n",
    "    count[i] = count[i] + 1\n",
    "print(count)\n",
    "   "
   ]
  },
  {
   "cell_type": "code",
   "execution_count": null,
   "id": "ea0f78c2-6fde-4226-a08e-51200faac5de",
   "metadata": {},
   "outputs": [],
   "source": []
  },
  {
   "cell_type": "markdown",
   "id": "a7ae19fa-fee2-4534-ba3f-f8fbc3c05df8",
   "metadata": {},
   "source": [
    "### Ques_45. Find all unique words in a string.\n"
   ]
  },
  {
   "cell_type": "code",
   "execution_count": 16,
   "id": "79758fd6-7da7-4751-a750-b89c2ff67a72",
   "metadata": {},
   "outputs": [
    {
     "name": "stdin",
     "output_type": "stream",
     "text": [
      "enter the sentence hello pwskills and hello python \n"
     ]
    },
    {
     "name": "stdout",
     "output_type": "stream",
     "text": [
      "{'hello', 'python', 'and', 'pwskills'}\n"
     ]
    }
   ],
   "source": [
    "string = input (\"enter the sentence\")\n",
    "split_string = string.split()\n",
    "unique_word = set(split_string)\n",
    "print(unique_word)"
   ]
  },
  {
   "cell_type": "code",
   "execution_count": null,
   "id": "45bf3fab-9ace-420c-ae0d-940949ea9bb4",
   "metadata": {},
   "outputs": [],
   "source": []
  },
  {
   "cell_type": "markdown",
   "id": "47b11fc6-d200-4162-b009-88a15422a1f5",
   "metadata": {},
   "source": [
    "### Ques_46. Count the number of syllables in a string"
   ]
  },
  {
   "cell_type": "code",
   "execution_count": 17,
   "id": "b630f0cf-be2b-4c39-85af-327fa098fb20",
   "metadata": {},
   "outputs": [
    {
     "name": "stdin",
     "output_type": "stream",
     "text": [
      "enter the sentence hello world\n"
     ]
    },
    {
     "name": "stdout",
     "output_type": "stream",
     "text": [
      "11\n"
     ]
    }
   ],
   "source": [
    "string = input(\"enter the sentence\")\n",
    "result = len(string)\n",
    "print(result)"
   ]
  },
  {
   "cell_type": "code",
   "execution_count": null,
   "id": "f6070727-2933-448b-b2fd-aa56341ed2fa",
   "metadata": {},
   "outputs": [],
   "source": []
  },
  {
   "cell_type": "markdown",
   "id": "78c43dd9-5781-4bf5-8529-679db3b2ed50",
   "metadata": {},
   "source": [
    "### Ques_47. Check if a string contains any special characters"
   ]
  },
  {
   "cell_type": "code",
   "execution_count": 1,
   "id": "ecfd4f66-33e5-432a-a011-b027b5557b46",
   "metadata": {},
   "outputs": [
    {
     "name": "stdout",
     "output_type": "stream",
     "text": [
      "String contains special characters.\n"
     ]
    }
   ],
   "source": [
    "input_str = \"hello! python?\"\n",
    "special_characters = \"!@#$%^&*()_-+=<>?/{}[]|\"\n",
    "index = 0\n",
    "has_special_chars = False\n",
    "while index < len(input_str):\n",
    "    char = input_str[index]\n",
    "    if char in special_characters:\n",
    "        has_special_chars = True\n",
    "        break \n",
    "    index = index+ 1 \n",
    "\n",
    "if has_special_chars:\n",
    "    print(\"String contains special characters.\")\n",
    "else:\n",
    "    print(\"String does not contain special characters.\")"
   ]
  },
  {
   "cell_type": "markdown",
   "id": "e19aaf43-81ca-4545-a016-c34b01c5cef9",
   "metadata": {},
   "source": [
    "## or "
   ]
  },
  {
   "cell_type": "code",
   "execution_count": 2,
   "id": "80fd59f7-6b28-4071-945d-8858ecb82c1c",
   "metadata": {},
   "outputs": [
    {
     "name": "stdin",
     "output_type": "stream",
     "text": [
      "Enter the sentence:  hello! world?\n"
     ]
    },
    {
     "name": "stdout",
     "output_type": "stream",
     "text": [
      "The sentence contains special characters.\n"
     ]
    }
   ],
   "source": [
    "string = input(\"Enter the sentence: \")\n",
    "special_chars = set(\"!@#$%^&*\")\n",
    "\n",
    "contains_special_char = any(char in special_chars for char in string)\n",
    "\n",
    "if contains_special_char:\n",
    "    print(\"The sentence contains special characters.\")\n",
    "else:\n",
    "    print(\"The sentence does not contain special characters.\")"
   ]
  },
  {
   "cell_type": "markdown",
   "id": "c5382f20-69a3-4d45-ac51-f7a9a4def7ba",
   "metadata": {},
   "source": [
    "### Ques_48. Remove the nth word from a string"
   ]
  },
  {
   "cell_type": "code",
   "execution_count": 3,
   "id": "f8960277-4589-4760-86ab-25f353939895",
   "metadata": {},
   "outputs": [
    {
     "name": "stdin",
     "output_type": "stream",
     "text": [
      "enter the sentence hello python\n",
      "enter the Nth number 4\n"
     ]
    },
    {
     "name": "stdout",
     "output_type": "stream",
     "text": [
      "hell python\n"
     ]
    }
   ],
   "source": [
    "string = input(\"enter the sentence\")\n",
    "remove_char = int(input(\"enter the Nth number\"))\n",
    "new_char = \"\"\n",
    "for i in range(0,len(string)):\n",
    "    if i != remove_char:\n",
    "        new_char = new_char + string[i]\n",
    "print(new_char)\n"
   ]
  },
  {
   "cell_type": "code",
   "execution_count": null,
   "id": "a0a3ace3-c8c1-4128-a40a-ec19b48e07e9",
   "metadata": {},
   "outputs": [],
   "source": []
  },
  {
   "cell_type": "markdown",
   "id": "9b8eb5f6-afad-481c-a7fa-e5e3686db72b",
   "metadata": {},
   "source": [
    "### Ques_49. Insert a word at the nth position in a string."
   ]
  },
  {
   "cell_type": "code",
   "execution_count": 6,
   "id": "441ee739-15f8-4500-b07b-b15a6efaa4d4",
   "metadata": {},
   "outputs": [
    {
     "name": "stdout",
     "output_type": "stream",
     "text": [
      "this is a pencil and pen for write a letter\n"
     ]
    }
   ],
   "source": [
    "string = \"this is a pen for write a letter\"\n",
    "index_word = \"pen\"\n",
    "index = string.find(index_word)\n",
    "result = string[:index] + \"pencil and \" + string[index:]\n",
    "print(result)"
   ]
  },
  {
   "cell_type": "code",
   "execution_count": null,
   "id": "f01e8f16-7173-4dd6-bae2-6cff7fde91dc",
   "metadata": {},
   "outputs": [],
   "source": []
  },
  {
   "cell_type": "markdown",
   "id": "d2f25c6f-95a2-4ed7-8721-75fa71049522",
   "metadata": {},
   "source": [
    "### Ques_50. Convert a CSV string to a list of lists."
   ]
  },
  {
   "cell_type": "code",
   "execution_count": 1,
   "id": "630aac9a-ad2e-4958-b730-2688c9f12010",
   "metadata": {},
   "outputs": [
    {
     "name": "stdout",
     "output_type": "stream",
     "text": [
      "[['1', 'John', 'Doe'], ['2', 'Jane', 'Smith'], ['3', 'Bob', 'Johnson']]\n"
     ]
    }
   ],
   "source": [
    "csv_string = \"1,John,Doe\\n2,Jane,Smith\\n3,Bob,Johnson\"\n",
    "\n",
    "csv_list_of_lists = [row.split(',') for row in csv_string.split('\\n') if row]\n",
    "\n",
    "print(csv_list_of_lists)"
   ]
  },
  {
   "cell_type": "code",
   "execution_count": null,
   "id": "e77b4cf9-966c-466c-9a50-b0c1f9ebc2f1",
   "metadata": {},
   "outputs": [],
   "source": []
  },
  {
   "cell_type": "markdown",
   "id": "1b35c12a-952f-45a0-a97c-bfca8cb6a3e1",
   "metadata": {},
   "source": [
    "### TOPIC :  List Based Practice Problem "
   ]
  },
  {
   "cell_type": "markdown",
   "id": "0d573a76-6f52-4938-89e9-120093e33573",
   "metadata": {},
   "source": [
    "### Ques_1. Create a list with integers from 1 to 10."
   ]
  },
  {
   "cell_type": "code",
   "execution_count": 2,
   "id": "88699bd8-d791-41c3-85c3-b91aadd33c37",
   "metadata": {},
   "outputs": [],
   "source": [
    "list_int = []"
   ]
  },
  {
   "cell_type": "code",
   "execution_count": 3,
   "id": "23749ed2-7327-41e3-b302-17c94cc00270",
   "metadata": {},
   "outputs": [
    {
     "data": {
      "text/plain": [
       "list"
      ]
     },
     "execution_count": 3,
     "metadata": {},
     "output_type": "execute_result"
    }
   ],
   "source": [
    "type(list_int)"
   ]
  },
  {
   "cell_type": "code",
   "execution_count": 4,
   "id": "e3f00814-fbd4-4728-a5aa-21e062feda86",
   "metadata": {},
   "outputs": [],
   "source": [
    "l = list(range(1,10))"
   ]
  },
  {
   "cell_type": "code",
   "execution_count": 5,
   "id": "54f3b830-b8e8-421b-ae60-d821c133ad7a",
   "metadata": {},
   "outputs": [
    {
     "name": "stdout",
     "output_type": "stream",
     "text": [
      "[1, 2, 3, 4, 5, 6, 7, 8, 9]\n"
     ]
    }
   ],
   "source": [
    "print(l)"
   ]
  },
  {
   "cell_type": "code",
   "execution_count": null,
   "id": "8dfc3ca6-7f12-4ffa-92e1-f3054d70f633",
   "metadata": {},
   "outputs": [],
   "source": []
  },
  {
   "cell_type": "markdown",
   "id": "51d582ac-d487-4f7d-bd50-7513b97c13e8",
   "metadata": {},
   "source": [
    "### Ques_2. Find the length of a list without using the len() function."
   ]
  },
  {
   "cell_type": "code",
   "execution_count": 6,
   "id": "601dd5ed-da7f-4f2d-a99b-c0ba02a3222a",
   "metadata": {},
   "outputs": [
    {
     "name": "stdout",
     "output_type": "stream",
     "text": [
      "the length is -- 10\n"
     ]
    }
   ],
   "source": [
    "l = [1,2,3,4,5,True,False,\"string\",89.07,5+6j]\n",
    "count = 0\n",
    "for i in l :\n",
    "    count = count + 1\n",
    "print(\"the length is --\",count)"
   ]
  },
  {
   "cell_type": "markdown",
   "id": "777dacc3-8fd6-42d0-8fe3-c62732b9d892",
   "metadata": {},
   "source": [
    "### Ques_3. Append an element to the end of a list."
   ]
  },
  {
   "cell_type": "code",
   "execution_count": 7,
   "id": "05ef7ba6-6d90-4275-8ec6-2b677640dc21",
   "metadata": {},
   "outputs": [
    {
     "name": "stdout",
     "output_type": "stream",
     "text": [
      "[1, 2, 3, 4, 5, True, False, 'string', 89.07, (5+6j), 'pwskills']\n"
     ]
    }
   ],
   "source": [
    "l = [1,2,3,4,5,True,False,\"string\",89.07,5+6j]\n",
    "l.append(\"pwskills\")\n",
    "print(l)"
   ]
  },
  {
   "cell_type": "markdown",
   "id": "1007c7f6-1c8f-4353-af1f-c572e6e40f45",
   "metadata": {},
   "source": [
    "### Ques_4. Insert an element at a specific index in a list."
   ]
  },
  {
   "cell_type": "code",
   "execution_count": 9,
   "id": "3e8b3c22-4d3b-4267-82ab-88f6bfa16426",
   "metadata": {},
   "outputs": [],
   "source": [
    "l =  [1,2,3,4,5,True,False,\"string\",89.07,5+6j]\n",
    "l.insert(3,300)"
   ]
  },
  {
   "cell_type": "code",
   "execution_count": 10,
   "id": "275918cd-7165-4ff1-8697-844d98023fb1",
   "metadata": {},
   "outputs": [
    {
     "data": {
      "text/plain": [
       "[1, 2, 3, 300, 4, 5, True, False, 'string', 89.07, (5+6j)]"
      ]
     },
     "execution_count": 10,
     "metadata": {},
     "output_type": "execute_result"
    }
   ],
   "source": [
    "l"
   ]
  },
  {
   "cell_type": "markdown",
   "id": "bf76b2eb-3dfe-4ce7-82af-ce4b2181c0ec",
   "metadata": {},
   "source": [
    "### Ques_5. Remove an element from a list by its value."
   ]
  },
  {
   "cell_type": "code",
   "execution_count": 11,
   "id": "7bd75fbf-9091-4bef-baea-25f0a38c9b9c",
   "metadata": {},
   "outputs": [
    {
     "name": "stdout",
     "output_type": "stream",
     "text": [
      "[1, 2, 3, 4, 5, True, 'string', 89.07, (5+6j)]\n"
     ]
    }
   ],
   "source": [
    "l = [1,2,3,4,5,True,False,\"string\",89.07,5+6j]\n",
    "l.remove(False)\n",
    "print(l)"
   ]
  },
  {
   "cell_type": "markdown",
   "id": "3d080052-feb3-48d6-85b1-89f682050525",
   "metadata": {},
   "source": [
    "### Ques_6.Remove an element from a list by its index."
   ]
  },
  {
   "cell_type": "code",
   "execution_count": 12,
   "id": "7a77a3e7-6102-480d-9e87-58470c96bc3e",
   "metadata": {},
   "outputs": [
    {
     "name": "stdout",
     "output_type": "stream",
     "text": [
      "[1, 2, 3, 4, 5, True, False, 89.07, (5+6j)]\n"
     ]
    }
   ],
   "source": [
    "l = [1,2,3,4,5,True,False,\"string\",89.07,5+6j]\n",
    "l.pop(7)\n",
    "print(l)"
   ]
  },
  {
   "cell_type": "markdown",
   "id": "0550f24e-c7be-4471-9f9a-31c67f3fc330",
   "metadata": {},
   "source": [
    "### Ques_7.Check if an element exists in a list."
   ]
  },
  {
   "cell_type": "code",
   "execution_count": 18,
   "id": "c6bc1552-e04a-48ac-b942-ed195d1c43e7",
   "metadata": {},
   "outputs": [
    {
     "name": "stdout",
     "output_type": "stream",
     "text": [
      "yes, it is exists\n"
     ]
    }
   ],
   "source": [
    "l = [1,2,3,4,5,True,False,\"string\",89.07,5+6j]\n",
    "exists_char = \"string\"\n",
    "if exists_char in l :\n",
    "    print(\"yes, it is exists\")\n",
    "else:\n",
    "    print(\"no, it is not exists\")"
   ]
  },
  {
   "cell_type": "markdown",
   "id": "cf792b17-6f7e-418d-bea0-8d5592995f72",
   "metadata": {},
   "source": [
    "### Ques_8. Find the index of the first occurrence of an element in a list."
   ]
  },
  {
   "cell_type": "code",
   "execution_count": 11,
   "id": "923dd109-00d9-4dc4-99aa-49d525787626",
   "metadata": {},
   "outputs": [
    {
     "name": "stdout",
     "output_type": "stream",
     "text": [
      "Index of the first occurrence of 2: 1\n"
     ]
    }
   ],
   "source": [
    "my_list = [1, 2, 3, 4, 2, 5]\n",
    "index_of_2 = my_list.index(2)\n",
    "print(\"Index of the first occurrence of 2:\", index_of_2)"
   ]
  },
  {
   "cell_type": "markdown",
   "id": "1e6af961-218e-4e7d-a769-16c5a891cdad",
   "metadata": {},
   "source": [
    "### Ques_9.Count the occurrences of an element in a list"
   ]
  },
  {
   "cell_type": "code",
   "execution_count": 12,
   "id": "a9a268c5-c020-4723-afe7-bbe8e08287f2",
   "metadata": {},
   "outputs": [
    {
     "name": "stdout",
     "output_type": "stream",
     "text": [
      "count the occurrence of the list is== 6\n"
     ]
    }
   ],
   "source": [
    "l = [1,2,3,4,5,1,2,3,5,6,5,9,5,4,5,1,2,3,4,5]\n",
    "count_occur = 5\n",
    "count = l.count(count_occur)\n",
    "print(\"count the occurrence of the list is==\",count)"
   ]
  },
  {
   "cell_type": "markdown",
   "id": "b4b89981-ee03-4403-aa1e-696e6c2eeced",
   "metadata": {},
   "source": [
    "### Ques_10. Reverse the order of elements in a list."
   ]
  },
  {
   "cell_type": "code",
   "execution_count": 13,
   "id": "9a56b6bf-5362-4280-ba6b-ff834010603f",
   "metadata": {},
   "outputs": [
    {
     "name": "stdout",
     "output_type": "stream",
     "text": [
      "[(5+6j), 89.07, 'string', False, True, 5, 4, 3, 2, 1]\n"
     ]
    }
   ],
   "source": [
    "l = [1,2,3,4,5,True,False,\"string\",89.07,5+6j]\n",
    "reverse = l.reverse()\n",
    "print(l)"
   ]
  },
  {
   "cell_type": "markdown",
   "id": "730cda6b-69fa-4d96-b6e7-29693239caf4",
   "metadata": {},
   "source": [
    "### Ques_11. Sort a list in ascending order."
   ]
  },
  {
   "cell_type": "code",
   "execution_count": 16,
   "id": "b03e31d7-1327-4b88-b533-e7ac0fd26557",
   "metadata": {},
   "outputs": [
    {
     "name": "stdout",
     "output_type": "stream",
     "text": [
      "[2, 3, 4, 5, 6, 7, 8, 23, 65, 89, 341]\n"
     ]
    }
   ],
   "source": [
    "l1 = [2,5,4,3,6,7,8,23,65,89,341]\n",
    "ascend = sorted(l1)\n",
    "print(ascend)"
   ]
  },
  {
   "cell_type": "markdown",
   "id": "c203a1c4-3a7c-4c21-aeab-87f546f9be36",
   "metadata": {},
   "source": [
    "### Ques_12. Sort a list in descending order."
   ]
  },
  {
   "cell_type": "code",
   "execution_count": 18,
   "id": "afb5e60b-3f33-4ac5-8e21-827aee1115de",
   "metadata": {},
   "outputs": [
    {
     "name": "stdout",
     "output_type": "stream",
     "text": [
      "[534, 341, 89, 84, 65, 27, 23, 8, 7, 6, 4, 3, 2]\n"
     ]
    }
   ],
   "source": [
    "l2 = [2,534,27,84,4,3,6,7,8,23,65,89,341]\n",
    "descend = sorted(l2,reverse=True)\n",
    "print(descend)"
   ]
  },
  {
   "cell_type": "markdown",
   "id": "f71d967a-f3d3-45e4-9fcb-1e8960ffaa9d",
   "metadata": {},
   "source": [
    "### Ques_13. Create a list of even numbers from 1 to 20."
   ]
  },
  {
   "cell_type": "code",
   "execution_count": 32,
   "id": "fe384495-97ef-4df3-9253-862cc630925c",
   "metadata": {},
   "outputs": [
    {
     "name": "stdout",
     "output_type": "stream",
     "text": [
      "even num-- [2, 4, 6, 8, 10, 12, 14, 16, 18, 20]\n"
     ]
    }
   ],
   "source": [
    "l2 = [1,2,3,4,5,6,7,8,9,10,11,12,13,14,15,16,17,18,19,20]\n",
    "l4 = []\n",
    "for i in l2 :\n",
    "    if i%2==0:\n",
    "        l4.append(i)\n",
    "print(\"even num--\",l4)\n",
    "        "
   ]
  },
  {
   "cell_type": "markdown",
   "id": "7fe3576c-09b7-4092-be01-8ea360c8c41f",
   "metadata": {},
   "source": [
    "### Ques_14. Create a list of odd numbers from 1 to 20."
   ]
  },
  {
   "cell_type": "code",
   "execution_count": 41,
   "id": "5d6dfaeb-f15c-4dfa-b1a2-fd772c32b1f1",
   "metadata": {},
   "outputs": [
    {
     "name": "stdout",
     "output_type": "stream",
     "text": [
      "odd num-- [27, 3, 7, 23, 65, 89, 341]\n"
     ]
    }
   ],
   "source": [
    "l2 = [2,534,27,84,4,3,6,7,8,23,65,89,341]\n",
    "l3 = []\n",
    "for i in l2 :\n",
    "    if i%2 != 0:\n",
    "        l3.append(i)\n",
    "print(\"odd num--\",l3)"
   ]
  },
  {
   "cell_type": "markdown",
   "id": "cefe29c1-5e36-4d51-973e-a26fb0f40b27",
   "metadata": {},
   "source": [
    "### Ques_15. Find the sum of all elements in a list."
   ]
  },
  {
   "cell_type": "code",
   "execution_count": 43,
   "id": "734722bb-0fb9-4e9f-8610-f7d7f0217776",
   "metadata": {},
   "outputs": [
    {
     "data": {
      "text/plain": [
       "1193"
      ]
     },
     "execution_count": 43,
     "metadata": {},
     "output_type": "execute_result"
    }
   ],
   "source": [
    "l2 = [2,534,27,84,4,3,6,7,8,23,65,89,341]\n",
    "sum(l2)"
   ]
  },
  {
   "cell_type": "markdown",
   "id": "4b0bf441-edbe-49b6-963f-b99b8b540e72",
   "metadata": {},
   "source": [
    "### Ques_16. Find the maximum value in a list."
   ]
  },
  {
   "cell_type": "code",
   "execution_count": 44,
   "id": "44b23487-ac1b-4b48-a4a4-37e4f0e270ca",
   "metadata": {},
   "outputs": [
    {
     "name": "stdout",
     "output_type": "stream",
     "text": [
      "534\n"
     ]
    }
   ],
   "source": [
    "l2 = [2,534,27,84,4,3,6,7,8,23,65,89,341]\n",
    "max_num = max(l2)\n",
    "print(max_num)"
   ]
  },
  {
   "cell_type": "markdown",
   "id": "eb6e3001-35d7-4b73-869d-65db1c894aa6",
   "metadata": {},
   "source": [
    "### Ques_17. Find the minimum value in a list."
   ]
  },
  {
   "cell_type": "code",
   "execution_count": 45,
   "id": "44e33d3f-a727-4a23-a72e-6358752d1970",
   "metadata": {},
   "outputs": [
    {
     "name": "stdout",
     "output_type": "stream",
     "text": [
      "2\n"
     ]
    }
   ],
   "source": [
    "l2 = [2,534,27,84,4,3,6,7,8,23,65,89,341]\n",
    "min_num = min(l2)\n",
    "print(min_num)"
   ]
  },
  {
   "cell_type": "markdown",
   "id": "088c2c87-6c28-42d3-b091-db4259cdf01c",
   "metadata": {},
   "source": [
    "### Ques_18.Create a list of squares of numbers from 1 to 10."
   ]
  },
  {
   "cell_type": "code",
   "execution_count": 56,
   "id": "228b1ded-37ca-4fdc-8a5b-529d777d59f9",
   "metadata": {},
   "outputs": [
    {
     "name": "stdout",
     "output_type": "stream",
     "text": [
      "[1, 4, 9, 16, 25, 36, 49, 64, 81, 100]\n"
     ]
    }
   ],
   "source": [
    "l2 = []\n",
    "for i in range(1,11) :\n",
    "    l2.append(i**2)\n",
    "print(l2)"
   ]
  },
  {
   "cell_type": "markdown",
   "id": "c4b26830-4b93-4fe1-ac8f-21a2b4eed3ff",
   "metadata": {},
   "source": [
    "### Ques_19. Create a list of random numbers."
   ]
  },
  {
   "cell_type": "code",
   "execution_count": 9,
   "id": "461c73b7-0fe6-4ff6-aa95-d29f3b2346f6",
   "metadata": {},
   "outputs": [
    {
     "name": "stdout",
     "output_type": "stream",
     "text": [
      "[16, 3, 43, 15, 5]\n"
     ]
    }
   ],
   "source": [
    "import random\n",
    "random_list = [random.randint(1, 50) for _ in range(5)]\n",
    "print(random_list)"
   ]
  },
  {
   "cell_type": "markdown",
   "id": "aa239ecf-fa49-4f2d-b9c8-d83b3d6a068a",
   "metadata": {},
   "source": [
    "### Ques_20. Remove duplicates from a list."
   ]
  },
  {
   "cell_type": "code",
   "execution_count": 87,
   "id": "cb55796e-5827-4c15-8342-3813fe7b2b8b",
   "metadata": {},
   "outputs": [
    {
     "name": "stdout",
     "output_type": "stream",
     "text": [
      "[0, 1, 2, 3, 4, 5, 6, 7, 8, 9]\n"
     ]
    }
   ],
   "source": [
    "l = [1,2,3,2,3,5,4,3,5,3,2,1,7,8,7,9,0,7,6,5,4,3,2,1]\n",
    "rem_dupli = list(set(l))\n",
    "print(rem_dupli)"
   ]
  },
  {
   "cell_type": "markdown",
   "id": "bc59de59-1190-46b7-8c6f-5da0ffcafa99",
   "metadata": {},
   "source": [
    "### Ques_21. Find the common elements between two lists."
   ]
  },
  {
   "cell_type": "code",
   "execution_count": 4,
   "id": "7413118c-c02b-4725-8dee-f372869f3680",
   "metadata": {},
   "outputs": [
    {
     "name": "stdout",
     "output_type": "stream",
     "text": [
      "[1, 2, 4, 5, 6, 8]\n"
     ]
    }
   ],
   "source": [
    "l1 = [1,2,4,5,6,7,8,3]\n",
    "l2 = [9,8,6,5,4,2,1,0]\n",
    "common_element = list(set(l1) & set(l2))\n",
    "print(common_element)\n",
    "\n"
   ]
  },
  {
   "cell_type": "markdown",
   "id": "fe2a2e73-6664-4d6f-b964-e1aeda113006",
   "metadata": {},
   "source": [
    "### Ques_22.Find the difference between two lists"
   ]
  },
  {
   "cell_type": "code",
   "execution_count": 5,
   "id": "995c327b-bcb5-4ddc-b1c1-d0f6b9427a5b",
   "metadata": {},
   "outputs": [
    {
     "name": "stdout",
     "output_type": "stream",
     "text": [
      "[3, 7]\n"
     ]
    }
   ],
   "source": [
    "l1 = [1,2,4,5,6,7,8,3]\n",
    "l2 = [9,8,6,5,4,2,1,0]\n",
    "difference = list(set(l1) - set(l2))\n",
    "print(difference)\n"
   ]
  },
  {
   "cell_type": "code",
   "execution_count": 8,
   "id": "faa50682-2d7c-4ad1-96a1-e00b54f49dda",
   "metadata": {},
   "outputs": [
    {
     "name": "stdout",
     "output_type": "stream",
     "text": [
      "[0, 9]\n"
     ]
    }
   ],
   "source": [
    "l1 = [1,2,4,5,6,7,8,3]\n",
    "l2 = [9,8,6,5,4,2,1,0]\n",
    "difference = list(set(l2) - set(l1))\n",
    "print(difference)"
   ]
  },
  {
   "cell_type": "markdown",
   "id": "794933c2-8296-42c1-88ea-a889a9e4ff41",
   "metadata": {},
   "source": [
    "### Ques_23. Merge two lists."
   ]
  },
  {
   "cell_type": "code",
   "execution_count": 10,
   "id": "8b71b26c-9876-426f-ad29-5119a227e649",
   "metadata": {},
   "outputs": [
    {
     "name": "stdout",
     "output_type": "stream",
     "text": [
      "[1, 2, 4, 5, 6, 7, 8, 3, 9, 8, 6, 5, 4, 2, 1, 0]\n"
     ]
    }
   ],
   "source": [
    "l1 = [1,2,4,5,6,7,8,3]\n",
    "l2 = [9,8,6,5,4,2,1,0]\n",
    "mege_list = l1 + l2\n",
    "print(mege_list)"
   ]
  },
  {
   "cell_type": "markdown",
   "id": "23bc758e-d34f-44ad-884b-33bde3787da4",
   "metadata": {},
   "source": [
    "### Ques_24. Multiply all elements in a list by 2."
   ]
  },
  {
   "cell_type": "code",
   "execution_count": 17,
   "id": "c7c50600-492c-44b1-b2d3-939c154400df",
   "metadata": {},
   "outputs": [
    {
     "name": "stdout",
     "output_type": "stream",
     "text": [
      "[2, 4, 8, 10, 12, 14, 16, 6]\n"
     ]
    }
   ],
   "source": [
    "l1 = [1,2,4,5,6,7,8,3]\n",
    "multiple_list = []\n",
    "for i in l1 :\n",
    "    multiple_list.append(i*2)\n",
    "print(multiple_list)"
   ]
  },
  {
   "cell_type": "markdown",
   "id": "f8e2341c-e1ad-46c9-bf4d-de9824bb073b",
   "metadata": {},
   "source": [
    "### Ques_25. Filter out all even numbers from a list."
   ]
  },
  {
   "cell_type": "code",
   "execution_count": 23,
   "id": "6027daf4-e2b3-4882-9abf-2d3d0cc5b8c6",
   "metadata": {},
   "outputs": [
    {
     "name": "stdout",
     "output_type": "stream",
     "text": [
      "[2, 4, 6, 8]\n"
     ]
    }
   ],
   "source": [
    "l1 = [1,2,4,5,6,7,8,3]\n",
    "even_list = []\n",
    "for i in l1 :\n",
    "    if i % 2 == 0:\n",
    "        even_list.append(i)\n",
    "print(even_list)"
   ]
  },
  {
   "cell_type": "markdown",
   "id": "2ebc90b3-d6b4-42a5-9b79-fc5d5ee2fac4",
   "metadata": {},
   "source": [
    "### Ques_26. Convert a list of strings to a list of integers."
   ]
  },
  {
   "cell_type": "code",
   "execution_count": 47,
   "id": "605bda10-7f13-4ec6-9868-3a092e15c916",
   "metadata": {},
   "outputs": [
    {
     "name": "stdout",
     "output_type": "stream",
     "text": [
      "[1, 2, 3, 4, 5]\n"
     ]
    }
   ],
   "source": [
    "string_list =[\"1\", \"2\", \"3\", \"4\", \"5\"]\n",
    "integers_list = list(map(int,string_list))\n",
    "print(integers_list)"
   ]
  },
  {
   "cell_type": "markdown",
   "id": "3c6a7626-cea9-4dd3-8206-1e994f4746d0",
   "metadata": {},
   "source": [
    "## Ques_27. Convert a list of integers to a list of strings."
   ]
  },
  {
   "cell_type": "code",
   "execution_count": 48,
   "id": "ccfdcff3-3db5-4b4b-b041-a3344e271a41",
   "metadata": {},
   "outputs": [
    {
     "name": "stdout",
     "output_type": "stream",
     "text": [
      "['1', '2', '3', '4', '5', '6', '7', '8', '9']\n"
     ]
    }
   ],
   "source": [
    "list_of_integer = [1,2,3,4,5,6,7,8,9]\n",
    "list_of_string = list(map(str , list_of_integer))\n",
    "print(list_of_string)"
   ]
  },
  {
   "cell_type": "markdown",
   "id": "63024640-2caf-488d-a132-8949c7c666a3",
   "metadata": {},
   "source": [
    "### Ques_28. Flatten a nested list."
   ]
  },
  {
   "cell_type": "code",
   "execution_count": 50,
   "id": "d432f5e3-9a22-4f98-ab5e-e19ef24f9271",
   "metadata": {},
   "outputs": [
    {
     "name": "stdout",
     "output_type": "stream",
     "text": [
      "[0, 1, 2, 3, 7, 8, 9, 4, 5, 6]\n"
     ]
    }
   ],
   "source": [
    "nested_list = [[0,1,2,3],[7,8,9],[4,5,6]]\n",
    "flatten_list = []\n",
    "for i in nested_list :\n",
    "    flatten_list.extend(i)\n",
    "print(flatten_list)"
   ]
  },
  {
   "cell_type": "markdown",
   "id": "08b6f203-a2d9-40a2-a10e-9fb075042752",
   "metadata": {},
   "source": [
    "### Ques_29. Create a list of the first 10 Fibonacci numbers."
   ]
  },
  {
   "cell_type": "code",
   "execution_count": 57,
   "id": "924794a2-11c6-463e-97d3-a2aa0e50767e",
   "metadata": {},
   "outputs": [
    {
     "name": "stdout",
     "output_type": "stream",
     "text": [
      "0\n",
      "1\n",
      "1\n",
      "2\n",
      "3\n",
      "5\n",
      "8\n",
      "13\n",
      "21\n",
      "34\n"
     ]
    }
   ],
   "source": [
    "number = 10\n",
    "a = 0\n",
    "b = 1\n",
    "counter = 0\n",
    "while counter < number :\n",
    "    print(a)\n",
    "    c = a + b\n",
    "    a = b\n",
    "    b = c\n",
    "    counter = counter + 1"
   ]
  },
  {
   "cell_type": "markdown",
   "id": "46656f99-e403-496d-a0ea-f6ad549994de",
   "metadata": {},
   "source": [
    "### Ques_30. Check if a list is sorted."
   ]
  },
  {
   "cell_type": "code",
   "execution_count": 58,
   "id": "f407674b-814b-4b1c-aa34-e82d1d9e4527",
   "metadata": {},
   "outputs": [
    {
     "name": "stdout",
     "output_type": "stream",
     "text": [
      "[0, 1, 2, 2, 3, 3, 4, 4, 5, 5, 6, 7, 7, 8, 9, 9]\n"
     ]
    }
   ],
   "source": [
    "l = [3,4,2,5,6,7,5,4,3,2,1,9,0,9,8,7]\n",
    "sort_list = sorted(l)\n",
    "print(sort_list)"
   ]
  },
  {
   "cell_type": "markdown",
   "id": "6665ec55-881d-4447-9883-2c3cc2585e93",
   "metadata": {},
   "source": [
    "### Ques_31. Rotate a list to the left by n positions."
   ]
  },
  {
   "cell_type": "code",
   "execution_count": 3,
   "id": "92638ae7-fde8-4ea5-ba94-9de6b0ddb317",
   "metadata": {},
   "outputs": [
    {
     "name": "stdout",
     "output_type": "stream",
     "text": [
      "Rotated list: [3, 4, 5, 6, 1, 2]\n"
     ]
    }
   ],
   "source": [
    "list_1 = [1,2,3,4,5,6]\n",
    "n = 2\n",
    "result_left_rotate = (list_1[n:] + list_1[:n]) \n",
    "print(\"Rotated list:\",result_left_rotate)"
   ]
  },
  {
   "cell_type": "markdown",
   "id": "a54fbd1b-e129-4b30-a040-5f23e20d10c2",
   "metadata": {},
   "source": [
    "### Ques_32. Rotate a list to the right by n positions."
   ]
  },
  {
   "cell_type": "code",
   "execution_count": 4,
   "id": "b64b9a76-48ef-4254-b397-fa0e55f5a1c4",
   "metadata": {},
   "outputs": [
    {
     "name": "stdout",
     "output_type": "stream",
     "text": [
      "Rotated list: [5, 6, 1, 2, 3, 4]\n"
     ]
    }
   ],
   "source": [
    "list_1 = [1,2,3,4,5,6]\n",
    "n = 2\n",
    "result_right_rotate = (list_1[-n:] + list_1[:-n]) \n",
    "print(\"Rotated list:\",result_right_rotate)"
   ]
  },
  {
   "cell_type": "markdown",
   "id": "60725244-6f30-4e3c-8a84-0f669e418fcf",
   "metadata": {},
   "source": [
    "### Ques_33. Create a list of prime numbers up to 50."
   ]
  },
  {
   "cell_type": "code",
   "execution_count": 34,
   "id": "7b99effc-e741-474f-9134-5fcad4c22e0a",
   "metadata": {},
   "outputs": [
    {
     "name": "stdout",
     "output_type": "stream",
     "text": [
      "2\n",
      "3\n",
      "5\n",
      "7\n",
      "11\n",
      "13\n",
      "17\n",
      "19\n",
      "23\n",
      "29\n",
      "31\n",
      "37\n",
      "41\n",
      "43\n",
      "47\n"
     ]
    }
   ],
   "source": [
    "start_num = 1\n",
    "end_num = 50\n",
    "for num in range(start_num,end_num+1):\n",
    "    if num > 1 :\n",
    "        for i in range(2,num):\n",
    "            if num % i == 0 :\n",
    "                break\n",
    "        else:\n",
    "            print(num)"
   ]
  },
  {
   "cell_type": "markdown",
   "id": "f0185464-fe92-435f-8e40-3abf3d527acd",
   "metadata": {},
   "source": [
    "### Ques_34.Split a list into chunks of size n."
   ]
  },
  {
   "cell_type": "code",
   "execution_count": 39,
   "id": "e03a67be-a012-4df0-a750-4d977131ee44",
   "metadata": {},
   "outputs": [
    {
     "name": "stdout",
     "output_type": "stream",
     "text": [
      "[1, 2, 3]\n",
      "[4, 5, 6]\n",
      "[7, 8, 9]\n"
     ]
    }
   ],
   "source": [
    "l = [1,2,3,4,5,6,7,8,9]\n",
    "chunk = []\n",
    "for i in range(0,9,3):\n",
    "    print(l[i:i+3])"
   ]
  },
  {
   "cell_type": "markdown",
   "id": "67cbed30-0278-478e-b61f-1c6cd4e65ba4",
   "metadata": {},
   "source": [
    "### Ques_35. Find the second largest number in a list."
   ]
  },
  {
   "cell_type": "code",
   "execution_count": 41,
   "id": "7af47eab-2e6e-4969-a788-caddad151c62",
   "metadata": {},
   "outputs": [
    {
     "name": "stdout",
     "output_type": "stream",
     "text": [
      "original list [1, 3, 5, 6, 7, 8]\n",
      "second largest number 7\n"
     ]
    }
   ],
   "source": [
    "l = [3,6,7,1,8,5]\n",
    "sorted_list = l.sort()\n",
    "second_largest = l[-2]\n",
    "print(\"original list\",l)\n",
    "print(\"second largest number\",second_largest)"
   ]
  },
  {
   "cell_type": "markdown",
   "id": "cab70fd6-ff6a-454c-a5b2-6f86bbb5c2ca",
   "metadata": {},
   "source": [
    "### Ques_36. Replace every element in a list with its square."
   ]
  },
  {
   "cell_type": "code",
   "execution_count": 43,
   "id": "797360bc-6296-491f-886f-26865e2374dd",
   "metadata": {},
   "outputs": [
    {
     "name": "stdout",
     "output_type": "stream",
     "text": [
      "[4, 9, 16, 25, 36, 49]\n"
     ]
    }
   ],
   "source": [
    "l = [2,3,4,5,6,7]\n",
    "square = [i**2 for i in l]\n",
    "print(square)"
   ]
  },
  {
   "cell_type": "markdown",
   "id": "72de84e5-e06e-46d7-855a-10abc13c4817",
   "metadata": {},
   "source": [
    "### Ques_37. Convert a list to a dictionary where list elements become keys and their indices become values."
   ]
  },
  {
   "cell_type": "code",
   "execution_count": 15,
   "id": "a66cabb6-507e-4af0-b219-5ff9ad588df4",
   "metadata": {},
   "outputs": [
    {
     "name": "stdout",
     "output_type": "stream",
     "text": [
      "{'zero': 0, 'one': 1, 'two': 2, 'three': 3, 'four': 4, 'five': 5}\n"
     ]
    }
   ],
   "source": [
    "lst = ['zero','one','two','three','four','five']\n",
    "dic = {element: index for index, element in enumerate(lst)}\n",
    "print(dic)\n"
   ]
  },
  {
   "cell_type": "markdown",
   "id": "3ef6c9f2-eda5-4eeb-ab95-28605e60000f",
   "metadata": {},
   "source": [
    "### Ques_38. Shuffle the elements of a list randomly."
   ]
  },
  {
   "cell_type": "code",
   "execution_count": 2,
   "id": "37402982-4edb-463d-8210-ad5402ef94ac",
   "metadata": {},
   "outputs": [
    {
     "name": "stdout",
     "output_type": "stream",
     "text": [
      "[5, 1, 3, 4, 7, 2, 6]\n"
     ]
    }
   ],
   "source": [
    "import random\n",
    "l = [1,2,3,4,5,6,7]\n",
    "shuffle = random.shuffle(l)\n",
    "print(l)"
   ]
  },
  {
   "cell_type": "markdown",
   "id": "0ab6f1e4-66bb-43ae-bb57-47e21eae411e",
   "metadata": {},
   "source": [
    "### Ques_39. Create a list of the first 10 factorial numbers."
   ]
  },
  {
   "cell_type": "code",
   "execution_count": 4,
   "id": "154dbc66-fd12-4831-b4fa-8bb2d6816924",
   "metadata": {},
   "outputs": [
    {
     "name": "stdout",
     "output_type": "stream",
     "text": [
      "First 10 factorial numbers:\n",
      "0! = 1\n",
      "1! = 1\n",
      "2! = 2\n",
      "3! = 6\n",
      "4! = 24\n",
      "5! = 120\n",
      "6! = 720\n",
      "7! = 5040\n",
      "8! = 40320\n",
      "9! = 362880\n"
     ]
    }
   ],
   "source": [
    "fac_num = []\n",
    "for i in range(10):\n",
    "    fac = 1\n",
    "    for a in range(1, i + 1):\n",
    "        fac = fac *  a\n",
    "    fac_num.append(fac)\n",
    "\n",
    "print(\"First 10 factorial numbers:\")\n",
    "for i, fac in enumerate(fac_num):\n",
    "    print(f\"{i}! = {fac}\")"
   ]
  },
  {
   "cell_type": "markdown",
   "id": "cb55c84e-1dd8-4e10-aa78-d3c82ce4ebcd",
   "metadata": {},
   "source": [
    "### Ques_40. Check if two lists have at least one element in common."
   ]
  },
  {
   "cell_type": "code",
   "execution_count": 9,
   "id": "38161f20-130f-4ab7-9c69-54818f8e3a84",
   "metadata": {},
   "outputs": [
    {
     "name": "stdout",
     "output_type": "stream",
     "text": [
      "list have at least one common element\n"
     ]
    }
   ],
   "source": [
    "list_1 = [1,2,3,4]\n",
    "list_2 = [4,5,6,7]\n",
    "com_ele = set(list_1) & set(list_2)\n",
    "if com_ele :\n",
    "    print(\"list have at least one common element\")\n",
    "else :\n",
    "    print(\"list do not have at least one common element\")"
   ]
  },
  {
   "cell_type": "markdown",
   "id": "611b5203-07cf-4f6b-bb24-8a2c5148157f",
   "metadata": {},
   "source": [
    "### Ques_41. Remove all elements from a list."
   ]
  },
  {
   "cell_type": "code",
   "execution_count": 16,
   "id": "beaeaacd-0a71-411d-9ff7-e65967d39919",
   "metadata": {},
   "outputs": [
    {
     "name": "stdout",
     "output_type": "stream",
     "text": [
      "[]\n"
     ]
    }
   ],
   "source": [
    "l = [1,2,3,4,5,6,7,8,9,0]\n",
    "l.clear()\n",
    "print(l)"
   ]
  },
  {
   "cell_type": "markdown",
   "id": "ac524438-0e1a-4e16-aa9f-26d0077007e6",
   "metadata": {},
   "source": [
    "### Ques_42. Replace negative numbers in a list with 0."
   ]
  },
  {
   "cell_type": "code",
   "execution_count": 17,
   "id": "08c25ef1-64fd-4411-832e-7a4ebcdd5aa4",
   "metadata": {},
   "outputs": [
    {
     "name": "stdout",
     "output_type": "stream",
     "text": [
      "[1, 0, 3, 0, 5]\n"
     ]
    }
   ],
   "source": [
    "original_list = [1, -2, 3, -4, 5]\n",
    "modified_list = []\n",
    "\n",
    "for x in original_list:\n",
    "    if x < 0:\n",
    "        modified_list.append(0)\n",
    "    else:\n",
    "        modified_list.append(x)\n",
    "\n",
    "print(modified_list)"
   ]
  },
  {
   "cell_type": "markdown",
   "id": "c56c12bf-4d2d-4963-8962-f3c12081b7bc",
   "metadata": {},
   "source": [
    "### Ques_43. Convert a string into a list of words."
   ]
  },
  {
   "cell_type": "code",
   "execution_count": 7,
   "id": "1ade9e56-eedd-4aa3-ad76-b08de3724531",
   "metadata": {},
   "outputs": [
    {
     "name": "stdout",
     "output_type": "stream",
     "text": [
      "['hello', 'pw', 'skill', 'i', 'am', 'student']\n"
     ]
    }
   ],
   "source": [
    "string = \"hello pw skill i am student\"\n",
    "list_of_word = string.split()\n",
    "print(list_of_word)\n"
   ]
  },
  {
   "cell_type": "markdown",
   "id": "b2ea6dd9-62c8-4521-bdac-c8b576b4f55c",
   "metadata": {},
   "source": [
    "### Ques_44. Convert a list of words into a string."
   ]
  },
  {
   "cell_type": "code",
   "execution_count": 8,
   "id": "6139c3ff-6399-4ce1-a7ba-90f5d8fa8110",
   "metadata": {},
   "outputs": [
    {
     "name": "stdout",
     "output_type": "stream",
     "text": [
      "hello pw skill i am student\n"
     ]
    }
   ],
   "source": [
    "list_word = ['hello', 'pw', 'skill', 'i', 'am', 'student']\n",
    "convert_string = ' '.join(list_word)\n",
    "print(convert_string)"
   ]
  },
  {
   "cell_type": "markdown",
   "id": "d91a5412-9205-4c85-83ff-9b8fd99a3d2f",
   "metadata": {},
   "source": [
    "### Ques_45. Create a list of the first n powers of 2."
   ]
  },
  {
   "cell_type": "code",
   "execution_count": 26,
   "id": "f00b5d2c-3b96-4aa4-ab90-ec633ff89747",
   "metadata": {},
   "outputs": [
    {
     "name": "stdin",
     "output_type": "stream",
     "text": [
      "enter the value 5\n"
     ]
    },
    {
     "name": "stdout",
     "output_type": "stream",
     "text": [
      "[1, 2, 4, 8, 16]\n"
     ]
    }
   ],
   "source": [
    "n_num = int(input(\"enter the value\"))\n",
    "result = list(2 ** i for i in range(n_num))\n",
    "print(result)"
   ]
  },
  {
   "cell_type": "markdown",
   "id": "295ea3d3-9fe7-404c-a1af-9be3b6820d5d",
   "metadata": {},
   "source": [
    "### Ques_46. Find the longest string in a list of strings."
   ]
  },
  {
   "cell_type": "code",
   "execution_count": 27,
   "id": "4f9c7001-f08b-4a05-9d36-5bb0a5456883",
   "metadata": {},
   "outputs": [
    {
     "name": "stdout",
     "output_type": "stream",
     "text": [
      "the longest string in a list = programming\n"
     ]
    }
   ],
   "source": [
    "list_of_string = ['python','is','the','best','language','in','the','programming']\n",
    "result = max(list_of_string, key=len)\n",
    "print(\"the longest string in a list =\",result)"
   ]
  },
  {
   "cell_type": "markdown",
   "id": "ac3463ec-c86f-4d60-adfd-e99604dec37e",
   "metadata": {},
   "source": [
    "### Ques_47. Find the shortest string in a list of strings."
   ]
  },
  {
   "cell_type": "code",
   "execution_count": 28,
   "id": "785eff85-73e2-414c-ade3-20b16915f89c",
   "metadata": {},
   "outputs": [
    {
     "name": "stdout",
     "output_type": "stream",
     "text": [
      "the shortest string in a list = is\n"
     ]
    }
   ],
   "source": [
    "list_of_string = ['python','is','the','best','language','in','the','programming']\n",
    "result = min(list_of_string, key=len)\n",
    "print(\"the shortest string in a list =\",result)"
   ]
  },
  {
   "cell_type": "markdown",
   "id": "c67a54ba-be6a-4c67-af4a-763fae9306b4",
   "metadata": {},
   "source": [
    "### Ques_48. Create a list of the first n triangular numbers."
   ]
  },
  {
   "cell_type": "code",
   "execution_count": 30,
   "id": "f383b25a-63dd-4fdc-b779-f5cd8d79f082",
   "metadata": {},
   "outputs": [
    {
     "name": "stdin",
     "output_type": "stream",
     "text": [
      "enter the number 5\n"
     ]
    },
    {
     "name": "stdout",
     "output_type": "stream",
     "text": [
      "1\n",
      "3\n",
      "6\n",
      "10\n",
      "15\n"
     ]
    }
   ],
   "source": [
    "n_num = int(input(\"enter the number\"))\n",
    "sum = 0\n",
    "for i in range(1,n_num+1):\n",
    "    sum = sum + i\n",
    "    print(sum)"
   ]
  },
  {
   "cell_type": "markdown",
   "id": "fee9acdb-66bf-4844-b63f-e82263f41fba",
   "metadata": {},
   "source": [
    "### Ques_49. Check if a list contains another list as a subsequence."
   ]
  },
  {
   "cell_type": "code",
   "execution_count": 31,
   "id": "7ee85faa-9907-4001-8db8-d776f091659a",
   "metadata": {},
   "outputs": [
    {
     "name": "stdout",
     "output_type": "stream",
     "text": [
      "[3, 4, 5] is a subsequence of [1, 2, 3, 4, 5, 6, 7, 8]\n"
     ]
    }
   ],
   "source": [
    "original = [1, 2, 3, 4, 5, 6, 7, 8]\n",
    "sub = [3,4,5]\n",
    "string = ''.join(map(str, original))\n",
    "sub_str = ''.join(map(str, sub))\n",
    "\n",
    "if sub_str in string:\n",
    "    print(f\"{sub} is a subsequence of {original}\")\n",
    "else:\n",
    "    print(f\"{sub} is not a subsequence of {original}\")"
   ]
  },
  {
   "cell_type": "markdown",
   "id": "f9daf3e5-8bfb-4ba6-98ff-3e67db1f14ae",
   "metadata": {},
   "source": [
    "### Ques_50. Swap two elements in a list by their indices. "
   ]
  },
  {
   "cell_type": "code",
   "execution_count": 34,
   "id": "50f29779-c01d-442c-9b21-4bebbf72571c",
   "metadata": {},
   "outputs": [
    {
     "name": "stdout",
     "output_type": "stream",
     "text": [
      "[10, 20, 30, 40, 50, 60]\n",
      "[10, 50, 30, 40, 20, 60]\n"
     ]
    }
   ],
   "source": [
    "ori_list = [10,20,30,40,50,60]\n",
    "print(ori_list)\n",
    "x, y = 1 , 4\n",
    "swap_list = ori_list[x],ori_list[y]=ori_list[y],ori_list[x]\n",
    "print(ori_list)"
   ]
  },
  {
   "cell_type": "code",
   "execution_count": null,
   "id": "24089897-6fc4-4661-b4e3-57691a232740",
   "metadata": {},
   "outputs": [],
   "source": []
  },
  {
   "cell_type": "markdown",
   "id": "26a53ff7-5e8a-416e-8957-ed3b4a026482",
   "metadata": {},
   "source": [
    "###  TOPIC:   Tuple Based Practice Problem :"
   ]
  },
  {
   "cell_type": "markdown",
   "id": "c2e5fae3-be18-4812-92cf-f260bc68dd86",
   "metadata": {},
   "source": [
    "### Ques_1. Create a tuple with integers from 1 to 5."
   ]
  },
  {
   "cell_type": "code",
   "execution_count": 3,
   "id": "866835b3-3c0d-4b1e-88e9-5667490dda30",
   "metadata": {},
   "outputs": [
    {
     "name": "stdout",
     "output_type": "stream",
     "text": [
      "(1, 2, 3, 4, 5)\n"
     ]
    }
   ],
   "source": [
    "integer = tuple(range(1,6))\n",
    "print(integer)"
   ]
  },
  {
   "cell_type": "markdown",
   "id": "e31dc7c4-e45a-45e7-8723-e2ae1ee790b3",
   "metadata": {},
   "source": [
    "### Ques_2. Access the third element of a tuple."
   ]
  },
  {
   "cell_type": "code",
   "execution_count": 5,
   "id": "57b419c5-4945-40de-aabf-2bd2920ddb09",
   "metadata": {},
   "outputs": [
    {
     "name": "stdout",
     "output_type": "stream",
     "text": [
      "third element is  3\n"
     ]
    }
   ],
   "source": [
    "tuple_element = (1,2,3,4,5,5,6,7,8)\n",
    "third_element = tuple_element[2]\n",
    "print(\"third element is \",third_element)"
   ]
  },
  {
   "cell_type": "markdown",
   "id": "c9417db0-5609-4734-a1fd-56088dbd900b",
   "metadata": {},
   "source": [
    "### Ques_3. Find the length of a tuple without using the len() function."
   ]
  },
  {
   "cell_type": "code",
   "execution_count": 6,
   "id": "70286c2a-325c-4866-987b-062e9d4ae728",
   "metadata": {},
   "outputs": [
    {
     "name": "stdout",
     "output_type": "stream",
     "text": [
      "10\n"
     ]
    }
   ],
   "source": [
    "my_tuple = (1,2,3,4,5,6,7,8,9,0)\n",
    "count = 0\n",
    "for i in my_tuple:\n",
    "    count = count + 1\n",
    "print(count)"
   ]
  },
  {
   "cell_type": "markdown",
   "id": "8c3c60ee-d5b1-4e0a-ab57-04cc278ac7fd",
   "metadata": {},
   "source": [
    "### Ques_4. Count the occurrences of an element in a tuple."
   ]
  },
  {
   "cell_type": "code",
   "execution_count": 10,
   "id": "ea6d2bb7-844d-426e-8625-eb45ced6fcca",
   "metadata": {},
   "outputs": [
    {
     "name": "stdout",
     "output_type": "stream",
     "text": [
      "4\n"
     ]
    }
   ],
   "source": [
    "my_tuple1 = (1,2,3,4,5,6,5,6,7,6,6,7,7,8,9,7,8,9,0)\n",
    "occurrences = 7\n",
    "count_occur = my_tuple1.count(occurrences)\n",
    "print(count_occur)"
   ]
  },
  {
   "cell_type": "markdown",
   "id": "3bdb85c8-8140-427c-a5b3-52bbb5716acb",
   "metadata": {},
   "source": [
    "### Ques_5. Find the index of the first occurrence of an element in a tuple."
   ]
  },
  {
   "cell_type": "code",
   "execution_count": 13,
   "id": "f5af7522-ed63-4230-aed7-51304e50d543",
   "metadata": {},
   "outputs": [
    {
     "name": "stdout",
     "output_type": "stream",
     "text": [
      "4\n"
     ]
    }
   ],
   "source": [
    "my_tuple2 = (1,2,3,4,5,6,7,8,9,0)\n",
    "first_occcur = my_tuple2.index(5)\n",
    "print(first_occcur)"
   ]
  },
  {
   "cell_type": "markdown",
   "id": "a1b42eec-c12d-411a-9f73-0d55019db5a2",
   "metadata": {},
   "source": [
    "### Ques_6. Check if an element exists in a tuple."
   ]
  },
  {
   "cell_type": "code",
   "execution_count": 21,
   "id": "4eebf309-9385-4b09-be36-1779f6299693",
   "metadata": {},
   "outputs": [
    {
     "name": "stdout",
     "output_type": "stream",
     "text": [
      "No , it is not exists\n"
     ]
    }
   ],
   "source": [
    "my_tuple3 = (1,2,3,4,5,6,7,8,9,0)\n",
    "exist_ele = 10\n",
    "if exist_ele in my_tuple3:\n",
    "    print(\"yes,it is exists\")\n",
    "else :\n",
    "    print(\"No , it is not exists\")"
   ]
  },
  {
   "cell_type": "markdown",
   "id": "789e8d81-492a-4a20-a638-1aca38c8999d",
   "metadata": {},
   "source": [
    "### Ques_7. Convert a tuple to a list."
   ]
  },
  {
   "cell_type": "code",
   "execution_count": 25,
   "id": "8d52b2f6-1879-42fa-bbd9-bad258a76d6d",
   "metadata": {},
   "outputs": [
    {
     "name": "stdout",
     "output_type": "stream",
     "text": [
      "[1, 2, 3, 4, 5]\n"
     ]
    }
   ],
   "source": [
    "my_tuple = (1,2,3,4,5)\n",
    "my_list = list(my_tuple)\n",
    "print(my_list)"
   ]
  },
  {
   "cell_type": "markdown",
   "id": "1369a861-7b9f-4bda-a4f6-c50fa51fb3ef",
   "metadata": {},
   "source": [
    "### Ques_8. Convert a list to a tuple."
   ]
  },
  {
   "cell_type": "code",
   "execution_count": 26,
   "id": "578a7dd2-3109-4c93-84b1-c926aeae2ebd",
   "metadata": {},
   "outputs": [
    {
     "name": "stdout",
     "output_type": "stream",
     "text": [
      "(1, 2, 3, 4, 5)\n"
     ]
    }
   ],
   "source": [
    "my_list1 = [1, 2, 3, 4, 5]\n",
    "my_tuple1 = tuple(my_list1)\n",
    "print(my_tuple1)"
   ]
  },
  {
   "cell_type": "markdown",
   "id": "a601f977-a1df-46b4-822a-c5d98c3d3a57",
   "metadata": {},
   "source": [
    "### Ques_9. Unpack the elements of a tuple into variables."
   ]
  },
  {
   "cell_type": "code",
   "execution_count": 31,
   "id": "99ae05ae-4388-4c51-8e0f-4ad1e604b01f",
   "metadata": {},
   "outputs": [
    {
     "name": "stdout",
     "output_type": "stream",
     "text": [
      "0\n",
      "9\n",
      "8\n",
      "7\n",
      "6\n"
     ]
    }
   ],
   "source": [
    "my_Tuple = (0,9,8,7,6)\n",
    "vari1, vari2, vari3, vari4, vari5 = my_Tuple\n",
    "print(vari1)\n",
    "print(vari2)\n",
    "print(vari3)\n",
    "print(vari4)\n",
    "print(vari5)"
   ]
  },
  {
   "cell_type": "markdown",
   "id": "36728b72-5af3-4b0d-b09b-d7c647d740c1",
   "metadata": {},
   "source": [
    "### Ques_10. Create a tuple of even numbers from 1 to 10."
   ]
  },
  {
   "cell_type": "code",
   "execution_count": 56,
   "id": "ffb574d9-0fae-4797-901c-c81f004a8bd4",
   "metadata": {},
   "outputs": [
    {
     "name": "stdout",
     "output_type": "stream",
     "text": [
      "even number (2, 4, 6, 8, 10)\n"
     ]
    }
   ],
   "source": [
    "even_num_of_tuple = tuple(range(2,11,2))\n",
    "print(\"even number\",even_num_of_tuple)"
   ]
  },
  {
   "cell_type": "markdown",
   "id": "178d810b-d9ce-40e4-b2fa-216759ef2a65",
   "metadata": {},
   "source": [
    "### Ques_11. Create a tuple of odd numbers from 1 to 10."
   ]
  },
  {
   "cell_type": "code",
   "execution_count": 67,
   "id": "935af43a-1f4f-4999-803b-7cd00bc2aff1",
   "metadata": {},
   "outputs": [
    {
     "name": "stdout",
     "output_type": "stream",
     "text": [
      "odd number (1, 3, 5, 7, 9)\n"
     ]
    }
   ],
   "source": [
    "odd_num_of_tuple = tuple(range(1,10,2))\n",
    "print(\"odd number\",odd_num_of_tuple)"
   ]
  },
  {
   "cell_type": "markdown",
   "id": "c8f088e7-68e9-418e-a346-a461b84b0594",
   "metadata": {},
   "source": [
    "### Ques_12. Concatenate two tuples."
   ]
  },
  {
   "cell_type": "code",
   "execution_count": 68,
   "id": "2d785f45-1269-4e85-96d1-4f0b31a6dc7d",
   "metadata": {},
   "outputs": [
    {
     "name": "stdout",
     "output_type": "stream",
     "text": [
      "(1, 2, 3, 4, 5, 6, 7, 8)\n"
     ]
    }
   ],
   "source": [
    "t1 = (1,2,3,4)\n",
    "t2 = (5,6,7,8)\n",
    "concatenate = t1 + t2\n",
    "print(concatenate)"
   ]
  },
  {
   "cell_type": "markdown",
   "id": "f2c96472-0df5-42b8-867d-fc7345e01e5e",
   "metadata": {},
   "source": [
    "### Ques_13. Repeat a tuple three times."
   ]
  },
  {
   "cell_type": "code",
   "execution_count": 69,
   "id": "cdf20f52-5c1e-44eb-b58c-00431f02561e",
   "metadata": {},
   "outputs": [
    {
     "name": "stdout",
     "output_type": "stream",
     "text": [
      "(1, 2, 3, 4, 1, 2, 3, 4, 1, 2, 3, 4)\n"
     ]
    }
   ],
   "source": [
    "t3 = (1,2,3,4)\n",
    "repeat = t3 * 3\n",
    "print(repeat)"
   ]
  },
  {
   "cell_type": "markdown",
   "id": "e3f90eb2-5732-4d0f-8163-0e11cfbdacaf",
   "metadata": {},
   "source": [
    "### Ques_14. Check if a tuple is empty."
   ]
  },
  {
   "cell_type": "code",
   "execution_count": 70,
   "id": "fef0511b-db8c-4e85-ad22-51fb6061b432",
   "metadata": {},
   "outputs": [
    {
     "name": "stdout",
     "output_type": "stream",
     "text": [
      "it is empty\n"
     ]
    }
   ],
   "source": [
    "empty_Tuple = ()\n",
    "if len(empty_Tuple)==0:\n",
    "    print(\"it is empty\")\n",
    "else :\n",
    "    print(\"it is not empty\")"
   ]
  },
  {
   "cell_type": "markdown",
   "id": "aaf240c0-ebf3-407b-ba62-057c9a41ae7e",
   "metadata": {},
   "source": [
    "### Ques_15. Create a nested tuple."
   ]
  },
  {
   "cell_type": "code",
   "execution_count": 1,
   "id": "19510e70-e545-441e-b952-f741ff54fe47",
   "metadata": {},
   "outputs": [
    {
     "name": "stdout",
     "output_type": "stream",
     "text": [
      "((1, 2, 3), (4, 5, 6), (7, 8, 9))\n"
     ]
    }
   ],
   "source": [
    "nested_tuple = ((1,2,3),(4,5,6),(7,8,9))\n",
    "print(nested_tuple)"
   ]
  },
  {
   "cell_type": "markdown",
   "id": "06207d32-aabf-4e43-b6ab-3d9d7fd47660",
   "metadata": {},
   "source": [
    "### Ques_16. Access the first element of a nested tuple."
   ]
  },
  {
   "cell_type": "code",
   "execution_count": 3,
   "id": "25179cf3-a142-492a-ad03-7726f9935b7e",
   "metadata": {},
   "outputs": [
    {
     "name": "stdout",
     "output_type": "stream",
     "text": [
      "(1, 2, 3)\n"
     ]
    }
   ],
   "source": [
    "nested_tuple = ((1,2,3),(4,5,6),(7,8,9))\n",
    "print(nested_tuple[0])"
   ]
  },
  {
   "cell_type": "markdown",
   "id": "bd4f4501-ee50-4f80-9d07-4efea5e0046d",
   "metadata": {},
   "source": [
    "### Ques_17. Create a tuple with a single element."
   ]
  },
  {
   "cell_type": "code",
   "execution_count": 48,
   "id": "aeb4b0f4-1f36-4ad9-89ae-19742cb8cb22",
   "metadata": {},
   "outputs": [
    {
     "name": "stdout",
     "output_type": "stream",
     "text": [
      "10\n"
     ]
    }
   ],
   "source": [
    "single_tuple = (10)\n",
    "print(single_tuple)"
   ]
  },
  {
   "cell_type": "markdown",
   "id": "a27da7e3-b71d-495c-83c8-7d7a17b777c9",
   "metadata": {},
   "source": [
    "### Ques_18. Compare two tuples."
   ]
  },
  {
   "cell_type": "code",
   "execution_count": 7,
   "id": "e7a1a57d-a177-43ce-91dc-f0cd7882b8d6",
   "metadata": {},
   "outputs": [
    {
     "name": "stdout",
     "output_type": "stream",
     "text": [
      "tuple are not same\n"
     ]
    }
   ],
   "source": [
    "tuple_1 = (1,2,3,4)\n",
    "tuple_2 = (9,2,3,4)\n",
    "if tuple_1 == tuple_2 :\n",
    "    print(\"tuples are same\")\n",
    "else :\n",
    "    print(\"tuple are not same\")"
   ]
  },
  {
   "cell_type": "markdown",
   "id": "92945aed-0d66-4cf1-8ba0-31ca3e9ace2b",
   "metadata": {},
   "source": [
    "### Ques_19. Delete a tuple."
   ]
  },
  {
   "cell_type": "code",
   "execution_count": 12,
   "id": "c1f65d7f-14fb-4488-9cc5-3d4689dabc2b",
   "metadata": {},
   "outputs": [],
   "source": [
    "tuple_del = (1,2,3,4)\n",
    "del tuple_del"
   ]
  },
  {
   "cell_type": "markdown",
   "id": "ad0c1ed3-d768-4cbe-bd79-1b29bbcb1234",
   "metadata": {},
   "source": [
    "### Ques_20. Slice a tuple."
   ]
  },
  {
   "cell_type": "code",
   "execution_count": 17,
   "id": "02271cbc-9233-4949-865e-e91b55170ba4",
   "metadata": {},
   "outputs": [
    {
     "name": "stdout",
     "output_type": "stream",
     "text": [
      "(10, 20, 30)\n"
     ]
    }
   ],
   "source": [
    "slice_tuple = (10,20,30,40,50,60)\n",
    "print(slice_tuple[0:3])"
   ]
  },
  {
   "cell_type": "markdown",
   "id": "97dc7d57-33f6-4afd-8e69-06e673532341",
   "metadata": {},
   "source": [
    "### Ques_21. Find the maximum value in a tuple."
   ]
  },
  {
   "cell_type": "code",
   "execution_count": 28,
   "id": "fcefd4ea-f062-4b75-979e-3048577544df",
   "metadata": {},
   "outputs": [
    {
     "name": "stdout",
     "output_type": "stream",
     "text": [
      "8\n"
     ]
    }
   ],
   "source": [
    "m_tuple = (1,3,5,3,7,8,4)\n",
    "maximum_value = max(m_tuple)\n",
    "print(maximum_value)"
   ]
  },
  {
   "cell_type": "markdown",
   "id": "4f9b2c4a-545b-497a-8eed-1574a27daa27",
   "metadata": {},
   "source": [
    "### Ques_22. Find the minimum value in a tuple."
   ]
  },
  {
   "cell_type": "code",
   "execution_count": 30,
   "id": "ad82fe2d-f032-4f97-8200-a9a7f24def55",
   "metadata": {},
   "outputs": [
    {
     "name": "stdout",
     "output_type": "stream",
     "text": [
      "1\n"
     ]
    }
   ],
   "source": [
    "m_tuple = (1,3,5,3,7,8,4)\n",
    "minimum_value = min(m_tuple)\n",
    "print(minimum_value)"
   ]
  },
  {
   "cell_type": "markdown",
   "id": "d6241580-5243-4da1-b277-f8c4e8869b1d",
   "metadata": {},
   "source": [
    "### Ques_23. Convert a string to a tuple of characters."
   ]
  },
  {
   "cell_type": "code",
   "execution_count": 43,
   "id": "f46af06b-e46d-4388-9f6b-703ca171e622",
   "metadata": {},
   "outputs": [
    {
     "name": "stdout",
     "output_type": "stream",
     "text": [
      "('t', 'h', 'e', ' ', 'p', 'y', 't', 'h', 'o', 'n')\n"
     ]
    }
   ],
   "source": [
    "string = \"the python\"\n",
    "con_tuple = tuple(string)\n",
    "print(con_tuple)"
   ]
  },
  {
   "cell_type": "markdown",
   "id": "7889062d-3084-45a9-a934-ccfdf1b6e367",
   "metadata": {},
   "source": [
    "### Ques_24. Convert a tuple of characters to a string."
   ]
  },
  {
   "cell_type": "code",
   "execution_count": 45,
   "id": "ba8ec8e8-c257-4583-a505-40fd3171b6f1",
   "metadata": {},
   "outputs": [
    {
     "name": "stdout",
     "output_type": "stream",
     "text": [
      "the python\n"
     ]
    }
   ],
   "source": [
    "c_tuple = ('t', 'h', 'e', ' ', 'p', 'y', 't', 'h', 'o', 'n')\n",
    "con_str = \"\".join(c_tuple)\n",
    "print(con_str)"
   ]
  },
  {
   "cell_type": "markdown",
   "id": "d9ded6ff-9048-42fe-a61b-82c378eff7fa",
   "metadata": {},
   "source": [
    "### Ques_25. Create a tuple from multiple data types."
   ]
  },
  {
   "cell_type": "code",
   "execution_count": 47,
   "id": "4c8ef9b9-f9a8-40e9-81d5-e35445db52b7",
   "metadata": {},
   "outputs": [
    {
     "name": "stdout",
     "output_type": "stream",
     "text": [
      "(1, 2, 3, 'string', True, (5+6j), 76.01)\n"
     ]
    }
   ],
   "source": [
    "multi_tuple = (1,2,3,\"string\",True,5+6j,76.01)\n",
    "print(multi_tuple)"
   ]
  },
  {
   "cell_type": "markdown",
   "id": "9773a141-d348-4660-9072-74aff3aa2e58",
   "metadata": {},
   "source": [
    "### Ques_26. Check if two tuples are identical."
   ]
  },
  {
   "cell_type": "code",
   "execution_count": 50,
   "id": "37900952-2c94-4543-944f-9d95fd0b934b",
   "metadata": {},
   "outputs": [
    {
     "name": "stdout",
     "output_type": "stream",
     "text": [
      "tuples are not identical\n"
     ]
    }
   ],
   "source": [
    "t_1 = (1,2,3,4)\n",
    "t_2 = (5,6,7,8)\n",
    "if t_1 == t_2 :\n",
    "    print(\"tuples are identical\")\n",
    "else:\n",
    "    print(\"tuples are not identical\")"
   ]
  },
  {
   "cell_type": "markdown",
   "id": "83ca2e9a-4da0-41a2-9ca3-b702b8e6b5cb",
   "metadata": {},
   "source": [
    "### Ques_27. Sort the elements of a tuple."
   ]
  },
  {
   "cell_type": "code",
   "execution_count": 57,
   "id": "b6b061ec-1a10-4cb9-8340-7ea5d416db88",
   "metadata": {},
   "outputs": [
    {
     "name": "stdout",
     "output_type": "stream",
     "text": [
      "(1, 1, 2, 2, 3, 3, 3, 4, 4, 5, 6, 7, 8)\n"
     ]
    }
   ],
   "source": [
    "s_tuple = (1,2,3,4,3,2,1,4,3,5,6,7,8)\n",
    "sort_tuple = tuple(sorted(s_tuple))\n",
    "print(sort_tuple)"
   ]
  },
  {
   "cell_type": "markdown",
   "id": "8488c629-c358-421c-89ab-eca1c727f082",
   "metadata": {},
   "source": [
    "### Ques_28. Convert a tuple of integers to a tuple of strings."
   ]
  },
  {
   "cell_type": "code",
   "execution_count": 65,
   "id": "02b32bd4-df1d-45fd-a714-e6fb607e0387",
   "metadata": {},
   "outputs": [
    {
     "name": "stdout",
     "output_type": "stream",
     "text": [
      "('1', '2', '3', '4', '5')\n"
     ]
    }
   ],
   "source": [
    "int_tuple = (1,2,3,4,5)\n",
    "str_tuple = tuple(map(str , int_tuple))\n",
    "print(str_tuple)"
   ]
  },
  {
   "cell_type": "markdown",
   "id": "9e86e4b9-2cb7-4f07-9ad2-5582a2b87a8b",
   "metadata": {},
   "source": [
    "### Ques_29. Convert a tuple of strings to a tuple of integers."
   ]
  },
  {
   "cell_type": "code",
   "execution_count": 69,
   "id": "c47e1d8c-6c80-4fc0-989f-3984178349ae",
   "metadata": {},
   "outputs": [
    {
     "name": "stdout",
     "output_type": "stream",
     "text": [
      "(1, 2, 3, 4, 5)\n"
     ]
    }
   ],
   "source": [
    "str_tuple1 = ('1', '2', '3', '4', '5')\n",
    "int_tuple1 = tuple(map(int,str_tuple1))\n",
    "print(int_tuple1)"
   ]
  },
  {
   "cell_type": "markdown",
   "id": "5955361d-d78e-49d3-b3f2-bf7edd927319",
   "metadata": {},
   "source": [
    "### Ques_30. Merge two tuples."
   ]
  },
  {
   "cell_type": "code",
   "execution_count": 71,
   "id": "5c650933-b665-4a23-a537-9821ca3ccc8a",
   "metadata": {},
   "outputs": [
    {
     "name": "stdout",
     "output_type": "stream",
     "text": [
      "(1, 2, 3, 4, 5, 6, 7, 8, 9, 0)\n"
     ]
    }
   ],
   "source": [
    "tuple_01 = (1,2,3,4,5)\n",
    "tuple_02 = (6,7,8,9,0)\n",
    "merge = tuple_01 + tuple_02\n",
    "print(merge)"
   ]
  },
  {
   "cell_type": "markdown",
   "id": "37f8e927-e85a-4adb-8b1c-bcc5c8e9cfa8",
   "metadata": {},
   "source": [
    "### Ques_31. Flatten a nested tuple."
   ]
  },
  {
   "cell_type": "code",
   "execution_count": 6,
   "id": "712c2ffc-f939-4343-beda-6bf5e36a8cbd",
   "metadata": {},
   "outputs": [
    {
     "name": "stdout",
     "output_type": "stream",
     "text": [
      "(1, 2, 3, 4, 5, 6, 7, 8, 9)\n"
     ]
    }
   ],
   "source": [
    "n_t = ((1,2,3),(4,5,6),(7,8,9))\n",
    "empty = []\n",
    "for i in n_t:\n",
    "    empty.extend(i)\n",
    "print(tuple(empty))\n",
    "            "
   ]
  },
  {
   "cell_type": "markdown",
   "id": "3a994e57-8bf6-4c34-85b1-bee238278ae1",
   "metadata": {},
   "source": [
    "### Ques_32. Create a tuple of the first 5 prime numbers."
   ]
  },
  {
   "cell_type": "code",
   "execution_count": 1,
   "id": "49eb83d3-7988-4cde-b157-de83486dc1a8",
   "metadata": {},
   "outputs": [
    {
     "name": "stdout",
     "output_type": "stream",
     "text": [
      "(2, 3, 5, 7, 11)\n"
     ]
    }
   ],
   "source": [
    "prime_num = (2,3,5,7,11)\n",
    "print(prime_num)"
   ]
  },
  {
   "cell_type": "markdown",
   "id": "10133561-69d7-491d-bcee-be80ee9f9ced",
   "metadata": {},
   "source": [
    "### Ques_33. Check if a tuple is a palindrome."
   ]
  },
  {
   "cell_type": "code",
   "execution_count": 2,
   "id": "d936b005-f236-4ea4-b8c8-579c022bcc1e",
   "metadata": {},
   "outputs": [
    {
     "name": "stdout",
     "output_type": "stream",
     "text": [
      "it is palindrome\n"
     ]
    }
   ],
   "source": [
    "t_tuple = (1,2,3,2,1)\n",
    "palindrome = t_tuple[::-1]\n",
    "if t_tuple == palindrome :\n",
    "    print(\"it is palindrome\")\n",
    "else :\n",
    "    print(\"it is not palindrome\")"
   ]
  },
  {
   "cell_type": "markdown",
   "id": "a5eb37ab-da5a-405f-9b68-ed0c483321e7",
   "metadata": {},
   "source": [
    "### Ques_34. Create a tuple of squares of numbers from 1 to 5."
   ]
  },
  {
   "cell_type": "code",
   "execution_count": 1,
   "id": "507dbb2f-3d7f-4ec4-ac99-3db0a768736a",
   "metadata": {},
   "outputs": [
    {
     "name": "stdout",
     "output_type": "stream",
     "text": [
      "(1, 4, 9, 16, 25)\n"
     ]
    }
   ],
   "source": [
    "t = (1,2,3,4,5)\n",
    "square_tuple = tuple(i**2 for i in t)\n",
    "print(square_tuple)"
   ]
  },
  {
   "cell_type": "markdown",
   "id": "9b980c54-9ac4-4da5-9e3b-7f9c9178f255",
   "metadata": {},
   "source": [
    "### Ques_35. Filter out all even numbers from a tuple."
   ]
  },
  {
   "cell_type": "code",
   "execution_count": 6,
   "id": "c1c8ca54-ff75-4237-9db9-885837f19814",
   "metadata": {},
   "outputs": [
    {
     "name": "stdout",
     "output_type": "stream",
     "text": [
      "(1, 3, 5, 7, 9)\n"
     ]
    }
   ],
   "source": [
    "tuple_num = (1,2,3,4,5,6,7,8,9,10)\n",
    "filter_tuple = tuple(i for i in tuple_num if i % 2 !=0)\n",
    "print(filter_tuple)"
   ]
  },
  {
   "cell_type": "markdown",
   "id": "52b548b5-e779-49b0-a638-ec8708fddec7",
   "metadata": {},
   "source": [
    "### Ques_36. Multiply all elements in a tuple by 2."
   ]
  },
  {
   "cell_type": "code",
   "execution_count": 7,
   "id": "0f4a0b66-204a-4388-80b4-e6c02c986d9c",
   "metadata": {},
   "outputs": [
    {
     "name": "stdout",
     "output_type": "stream",
     "text": [
      "(2, 4, 6, 8, 10)\n"
     ]
    }
   ],
   "source": [
    "ele_tuple = (1,2,3,4,5)\n",
    "multiply_tuple = tuple(i*2 for i in ele_tuple)\n",
    "print(multiply_tuple)"
   ]
  },
  {
   "cell_type": "markdown",
   "id": "1c6da705-377b-42e4-b010-84155933ccea",
   "metadata": {},
   "source": [
    "### Ques_37. Create a tuple of random numbers."
   ]
  },
  {
   "cell_type": "code",
   "execution_count": 8,
   "id": "76a0c5a5-2e2c-4b7d-a917-4cf3f274380f",
   "metadata": {},
   "outputs": [
    {
     "name": "stdout",
     "output_type": "stream",
     "text": [
      "(45, 14, 21, 13, 18)\n"
     ]
    }
   ],
   "source": [
    "import random\n",
    "random_tuple = tuple(random.randint(1,50) for i in range(5))\n",
    "print(random_tuple)"
   ]
  },
  {
   "cell_type": "markdown",
   "id": "fb16bc22-a6bc-49ef-bacc-182fbadda329",
   "metadata": {},
   "source": [
    "### Ques_38. Check if a tuple is sorted."
   ]
  },
  {
   "cell_type": "code",
   "execution_count": 12,
   "id": "5126ab7f-4a95-440b-b100-5e5c99f15a8e",
   "metadata": {},
   "outputs": [
    {
     "name": "stdout",
     "output_type": "stream",
     "text": [
      "[1, 1, 1, 2, 2, 2, 2, 3, 3, 3, 3, 4, 4, 4]\n"
     ]
    }
   ],
   "source": [
    "t = (1,2,3,4,3,2,1,2,3,4,2,1,3,4)\n",
    "sort_tuple = sorted(t)\n",
    "print(sort_tuple)"
   ]
  },
  {
   "cell_type": "markdown",
   "id": "528c240a-7aec-4f1a-b0f6-445547953f12",
   "metadata": {},
   "source": [
    "### Ques_39. Rotate a tuple to the left by n positions."
   ]
  },
  {
   "cell_type": "code",
   "execution_count": 16,
   "id": "0b17304d-7156-422f-9ea5-a09348d6f460",
   "metadata": {},
   "outputs": [
    {
     "name": "stdout",
     "output_type": "stream",
     "text": [
      "Rotated tuple: (4, 5, 6, 1, 2, 3)\n"
     ]
    }
   ],
   "source": [
    "tuple_1 = (1,2,3,4,5,6)\n",
    "n = 3\n",
    "result_left_rotate = (tuple_1[n:] + tuple_1[:n]) \n",
    "print(\"Rotated tuple:\",result_left_rotate)"
   ]
  },
  {
   "cell_type": "markdown",
   "id": "e594d539-85fc-4840-9bf8-a4dfd76b6d71",
   "metadata": {},
   "source": [
    "### Ques_40. Rotate a tuple to the right by n positions."
   ]
  },
  {
   "cell_type": "code",
   "execution_count": 15,
   "id": "ea1aef1d-4e9b-485d-a4fd-48aadcba0284",
   "metadata": {},
   "outputs": [
    {
     "name": "stdout",
     "output_type": "stream",
     "text": [
      "Rotated tuple: (5, 6, 1, 2, 3, 4)\n"
     ]
    }
   ],
   "source": [
    "tuple_1 = (1,2,3,4,5,6)\n",
    "n = 2\n",
    "result_right_rotate = (tuple_1[-n:] + tuple_1[:-n]) \n",
    "print(\"Rotated tuple:\",result_right_rotate)"
   ]
  },
  {
   "cell_type": "markdown",
   "id": "bf502670-272b-4859-9faf-589ff6ace2a5",
   "metadata": {},
   "source": [
    "### Ques_41. Create a tuple of the first 5 Fibonacci numbers."
   ]
  },
  {
   "cell_type": "code",
   "execution_count": 5,
   "id": "0a2c92ce-a890-458d-bc05-d64c0269e719",
   "metadata": {},
   "outputs": [
    {
     "name": "stdout",
     "output_type": "stream",
     "text": [
      "0 1 1 2 3 "
     ]
    }
   ],
   "source": [
    "a , b = 0 ,1\n",
    "for i in range(5):\n",
    "    print(a,end=\" \" )\n",
    "    a,b = b,a+b\n",
    "    "
   ]
  },
  {
   "cell_type": "markdown",
   "id": "6e396209-3d3f-455b-ae25-78bcbfc17150",
   "metadata": {},
   "source": [
    "### Ques_42. Create a tuple from user input."
   ]
  },
  {
   "cell_type": "code",
   "execution_count": 20,
   "id": "1408de0c-b6b1-47f9-81e8-1dd1a97ffb98",
   "metadata": {},
   "outputs": [
    {
     "name": "stdin",
     "output_type": "stream",
     "text": [
      "enter the elsment 1 2 3 4 5 6\n"
     ]
    },
    {
     "name": "stdout",
     "output_type": "stream",
     "text": [
      "('1 2 3 4 5 6',)\n"
     ]
    }
   ],
   "source": [
    "tuple_user = (input(\"enter the elsment\"))\n",
    "split_tuple = tuple_user.split(\",\")\n",
    "ori_user_tuple = tuple(split_tuple)\n",
    "print(ori_user_tuple)"
   ]
  },
  {
   "cell_type": "markdown",
   "id": "21590bc6-22fe-42f6-b108-ee7fce384c44",
   "metadata": {},
   "source": [
    "### Ques_43. Swap two elements in a tuple."
   ]
  },
  {
   "cell_type": "code",
   "execution_count": 22,
   "id": "fd238567-7ea5-43d8-845a-9e96991c5bb0",
   "metadata": {},
   "outputs": [
    {
     "name": "stdout",
     "output_type": "stream",
     "text": [
      "orignal tuple (1, 2, 3, 4, 5, 5, 6)\n",
      "swap tuple (1, 5, 3, 4, 2, 5, 6)\n"
     ]
    }
   ],
   "source": [
    "t = (1,2,3,4,5,5,6)\n",
    "ele_1 = 1\n",
    "ele_2 = 4\n",
    "ori_list = list(t)\n",
    "ori_list[ele_1],ori_list[ele_2]=ori_list[ele_2],ori_list[ele_1]\n",
    "swap = tuple(ori_list)\n",
    "print(\"orignal tuple\",t)\n",
    "print(\"swap tuple\",swap)"
   ]
  },
  {
   "cell_type": "markdown",
   "id": "290e3646-cc3d-4a16-9049-d80e0e3786ae",
   "metadata": {},
   "source": [
    "### Ques_44. Reverse the elements of a tuple."
   ]
  },
  {
   "cell_type": "code",
   "execution_count": 23,
   "id": "78c73170-3211-4e70-b449-675fe8093545",
   "metadata": {},
   "outputs": [
    {
     "name": "stdout",
     "output_type": "stream",
     "text": [
      "(4, 3, 2, 1)\n"
     ]
    }
   ],
   "source": [
    "t = (1,2,3,4)\n",
    "result = t[::-1]\n",
    "print(result)"
   ]
  },
  {
   "cell_type": "markdown",
   "id": "0b3aa83c-09ff-4f45-b2bf-9cd8fb7dfd34",
   "metadata": {},
   "source": [
    "### Ques_45. Create a tuple of the first n powers of 2."
   ]
  },
  {
   "cell_type": "code",
   "execution_count": 28,
   "id": "3811c222-27cd-4af7-aad3-6eaf2ff324a0",
   "metadata": {},
   "outputs": [
    {
     "name": "stdin",
     "output_type": "stream",
     "text": [
      "enter the value 5\n"
     ]
    },
    {
     "name": "stdout",
     "output_type": "stream",
     "text": [
      "(1, 2, 4, 8, 16)\n"
     ]
    }
   ],
   "source": [
    "n_num = int(input(\"enter the value\"))\n",
    "result = tuple(2 ** i for i in range(n_num))\n",
    "print(result)"
   ]
  },
  {
   "cell_type": "markdown",
   "id": "0e70ee34-3389-4a4b-b321-a4d1cc0e6179",
   "metadata": {},
   "source": [
    "### Ques_46. Find the longest string in a tuple of strings."
   ]
  },
  {
   "cell_type": "code",
   "execution_count": 31,
   "id": "0e6d4def-6dea-4e48-a3c4-0d1f8784781c",
   "metadata": {},
   "outputs": [
    {
     "name": "stdout",
     "output_type": "stream",
     "text": [
      "longest\n"
     ]
    }
   ],
   "source": [
    "t = ('find','the','longest','string','in','a','tuple')\n",
    "longest_tuple = max(t,key=len)\n",
    "print(longest_tuple)"
   ]
  },
  {
   "cell_type": "markdown",
   "id": "afbe7c42-b273-41a4-a808-bb5021ac4db1",
   "metadata": {},
   "source": [
    "### Ques_47. Find the shortest string in a tuple of strings."
   ]
  },
  {
   "cell_type": "code",
   "execution_count": 32,
   "id": "447debcb-7770-47cc-b0fc-5161bc14ba2f",
   "metadata": {},
   "outputs": [
    {
     "name": "stdout",
     "output_type": "stream",
     "text": [
      "longest\n"
     ]
    }
   ],
   "source": [
    "t = ('find','the','longest','string','in','a','tuple')\n",
    "shortest_tuple = max(t,key=len)\n",
    "print(shortest_tuple)"
   ]
  },
  {
   "cell_type": "markdown",
   "id": "137b310b-32e8-4655-ad82-85fc12ad102f",
   "metadata": {},
   "source": [
    "### Ques_48. Create a tuple of the first n triangular numbers."
   ]
  },
  {
   "cell_type": "code",
   "execution_count": 91,
   "id": "64f19a6f-bc14-4944-8e25-6ccd9951c3c9",
   "metadata": {},
   "outputs": [
    {
     "name": "stdout",
     "output_type": "stream",
     "text": [
      "(1, 3, 6, 10, 15)\n"
     ]
    }
   ],
   "source": [
    "n = 5\n",
    "triangular_set = tuple(i * (i + 1) // 2 for i in range(1, n + 1))\n",
    "print(triangular_set)"
   ]
  },
  {
   "cell_type": "markdown",
   "id": "a530c880-ba81-4a49-8c38-b2c45d27310b",
   "metadata": {},
   "source": [
    "### Ques_49. Check if a tuple contains another tuple as a subsequence."
   ]
  },
  {
   "cell_type": "code",
   "execution_count": 41,
   "id": "f995ad6e-74e9-4561-a0c6-1ad7129a402a",
   "metadata": {},
   "outputs": [
    {
     "name": "stdout",
     "output_type": "stream",
     "text": [
      "The sub-tuple is not a subsequence of the main tuple.\n"
     ]
    }
   ],
   "source": [
    "main_tuple = (1, 2, 3, 4, 5, 6, 7, 8)\n",
    "sub_tuple = (3, 4, 5)\n",
    "main_str = str(main_tuple)\n",
    "sub_str = str(sub_tuple)\n",
    "if sub_str in main_str:\n",
    "    print(\"The sub-tuple is a subsequence of the main tuple.\")\n",
    "else:\n",
    "    print(\"The sub-tuple is not a subsequence of the main tuple.\")\n"
   ]
  },
  {
   "cell_type": "markdown",
   "id": "3b23528a-4d7c-4021-b9cd-89f1845df29d",
   "metadata": {},
   "source": [
    "### Ques_50. Create a tuple of alternating 1s and 0s of length n."
   ]
  },
  {
   "cell_type": "code",
   "execution_count": 1,
   "id": "0c4d2591-5e86-4f97-b468-dd01179783db",
   "metadata": {},
   "outputs": [
    {
     "name": "stdout",
     "output_type": "stream",
     "text": [
      "(0, 1, 0, 1, 0, 1, 0, 1, 0)\n"
     ]
    }
   ],
   "source": [
    "n = 9 \n",
    "alternating_tuple = tuple((i % 2) for i in range(n))\n",
    "print(alternating_tuple)"
   ]
  },
  {
   "cell_type": "markdown",
   "id": "f5864246-a27b-499f-9b96-5ee831808edb",
   "metadata": {},
   "source": [
    "### TOPIC - sets Based Practice Problem :"
   ]
  },
  {
   "cell_type": "markdown",
   "id": "f6cec268-4d9b-4d6e-a8eb-85be1a74133b",
   "metadata": {},
   "source": [
    "### Ques_1. Create a set with integers from 1 to 5."
   ]
  },
  {
   "cell_type": "code",
   "execution_count": 12,
   "id": "661a96eb-50ef-493b-aa42-53105477d6be",
   "metadata": {},
   "outputs": [
    {
     "name": "stdout",
     "output_type": "stream",
     "text": [
      "{1, 2, 3, 4, 5}\n"
     ]
    }
   ],
   "source": [
    "set_int = {1,2,3,4,5}\n",
    "print(set_int)"
   ]
  },
  {
   "cell_type": "markdown",
   "id": "9cae51ac-8ab1-4cbf-8c8d-eb6152e5f53e",
   "metadata": {},
   "source": [
    "### Ques_2. Add an element to a set."
   ]
  },
  {
   "cell_type": "code",
   "execution_count": 19,
   "id": "549afdb6-bc71-4b49-8808-232505d6631a",
   "metadata": {
    "tags": []
   },
   "outputs": [
    {
     "name": "stdout",
     "output_type": "stream",
     "text": [
      "{1, 2, 3, 4, 5, 6}\n"
     ]
    }
   ],
   "source": [
    "set_int = {1,2,3,4,5}\n",
    "set_int.add(6)\n",
    "print(set_int)"
   ]
  },
  {
   "cell_type": "markdown",
   "id": "8e7073a9-7fae-4812-9c19-b5982e8fd17d",
   "metadata": {},
   "source": [
    "### Ques_3. Remove an element from a set."
   ]
  },
  {
   "cell_type": "code",
   "execution_count": 21,
   "id": "ce91dff0-8c2a-42de-a445-56173fcbd3cd",
   "metadata": {},
   "outputs": [
    {
     "name": "stdout",
     "output_type": "stream",
     "text": [
      "{1, 2, 3, 4, 5}\n"
     ]
    }
   ],
   "source": [
    "sets = {1, 2, 3, 4, 5, 6}\n",
    "sets.remove(6)\n",
    "print(sets)"
   ]
  },
  {
   "cell_type": "markdown",
   "id": "7b00bdad-e410-4797-a1f7-58d79c2657eb",
   "metadata": {},
   "source": [
    "### Ques_4. Check if an element exists in a set."
   ]
  },
  {
   "cell_type": "code",
   "execution_count": 24,
   "id": "952b30c9-fa6f-4f98-9da3-9037720ce854",
   "metadata": {},
   "outputs": [
    {
     "name": "stdout",
     "output_type": "stream",
     "text": [
      "yes\n"
     ]
    }
   ],
   "source": [
    "sets_element = {1, 2, 3, 4, 5, 6}\n",
    "exists = 5\n",
    "if exists in sets_element :\n",
    "    print(\"yes\")\n",
    "else:\n",
    "    print(\"no\")"
   ]
  },
  {
   "cell_type": "markdown",
   "id": "9aef65df-3ce9-4459-a11b-3ddefea07853",
   "metadata": {},
   "source": [
    "### Ques_5. Find the length of a set without using the len() function."
   ]
  },
  {
   "cell_type": "code",
   "execution_count": 35,
   "id": "4d93613c-1ef0-47a0-8fe2-0a71581b956c",
   "metadata": {},
   "outputs": [
    {
     "name": "stdout",
     "output_type": "stream",
     "text": [
      "7\n"
     ]
    }
   ],
   "source": [
    "l_sets_element = {1, 2, 3, 4, 5, 6,7}\n",
    "count = 0\n",
    "for i in l_sets_element :\n",
    "    count = count + i\n",
    "print(i)"
   ]
  },
  {
   "cell_type": "markdown",
   "id": "ac6c8a50-4c2f-4e3b-85dc-9c593cd29bf1",
   "metadata": {},
   "source": [
    "### Ques_6. Clear all elements from a set."
   ]
  },
  {
   "cell_type": "code",
   "execution_count": 29,
   "id": "c4dd0703-dca3-4949-8172-bfe3ff4354b9",
   "metadata": {},
   "outputs": [
    {
     "name": "stdout",
     "output_type": "stream",
     "text": [
      "set()\n"
     ]
    }
   ],
   "source": [
    "c_sets_element = {1, 2, 3, 4, 5, 6,7}\n",
    "c_sets_element.clear()\n",
    "print(c_sets_element)"
   ]
  },
  {
   "cell_type": "markdown",
   "id": "5c982464-7e21-48a4-a625-044f9b8fd179",
   "metadata": {},
   "source": [
    "### Ques_7. Create a set of even numbers from 1 to 10."
   ]
  },
  {
   "cell_type": "code",
   "execution_count": 36,
   "id": "19c4b6be-6eb8-4b09-b2d6-09843f898209",
   "metadata": {},
   "outputs": [
    {
     "name": "stdout",
     "output_type": "stream",
     "text": [
      "even number {2, 4, 6, 8, 10}\n"
     ]
    }
   ],
   "source": [
    "sets = set(range(2,11,2))\n",
    "print(\"even number\",sets)"
   ]
  },
  {
   "cell_type": "markdown",
   "id": "3856a15f-900a-411b-8ca3-76f1116688d8",
   "metadata": {},
   "source": [
    "### Ques_8. Create a set of odd numbers from 1 to 10."
   ]
  },
  {
   "cell_type": "code",
   "execution_count": 37,
   "id": "42b1a196-dd43-4f81-a328-b93376745bc6",
   "metadata": {},
   "outputs": [
    {
     "name": "stdout",
     "output_type": "stream",
     "text": [
      "even number {1, 3, 5, 7, 9}\n"
     ]
    }
   ],
   "source": [
    "sets = set(range(1,10,2))\n",
    "print(\"even number\",sets)"
   ]
  },
  {
   "cell_type": "markdown",
   "id": "09ac36d7-c264-4645-95dd-3e40554861a1",
   "metadata": {},
   "source": [
    "### Ques_9. Find the union of two sets."
   ]
  },
  {
   "cell_type": "code",
   "execution_count": 38,
   "id": "26d93741-98d6-4435-9510-d147dd37d567",
   "metadata": {},
   "outputs": [
    {
     "name": "stdout",
     "output_type": "stream",
     "text": [
      "{1, 2, 3, 4, 5, 6, 7, 8, 9}\n"
     ]
    }
   ],
   "source": [
    "a_set = {1,2,3,4,5,6}\n",
    "b_set = {4,5,6,7,8,9}\n",
    "union_set = a_set.union(b_set)\n",
    "print(union_set)"
   ]
  },
  {
   "cell_type": "markdown",
   "id": "d904a418-0d6f-47fb-8e91-ce7c99034efe",
   "metadata": {},
   "source": [
    "### Ques_10. Find the intersection of two sets."
   ]
  },
  {
   "cell_type": "code",
   "execution_count": 40,
   "id": "22215987-dbea-4c48-8383-394620de7b94",
   "metadata": {},
   "outputs": [
    {
     "name": "stdout",
     "output_type": "stream",
     "text": [
      "{4, 5, 6}\n"
     ]
    }
   ],
   "source": [
    "a_set = {1,2,3,4,5,6}\n",
    "b_set = {4,5,6,7,8,9}\n",
    "intersection_set = a_set.intersection(b_set)\n",
    "print(intersection_set)"
   ]
  },
  {
   "cell_type": "markdown",
   "id": "ceb53f01-cd15-4044-8b3e-f2ff6371f0de",
   "metadata": {},
   "source": [
    "### Ques_11. Find the difference between two sets."
   ]
  },
  {
   "cell_type": "code",
   "execution_count": 1,
   "id": "e0d1ec71-d060-483f-8995-c992a14bc46a",
   "metadata": {},
   "outputs": [
    {
     "name": "stdout",
     "output_type": "stream",
     "text": [
      "{1, 2, 3}\n"
     ]
    }
   ],
   "source": [
    "sets_1 = {1,2,3,4,5}\n",
    "sets_2 = {4,5,6,7,8}\n",
    "result = sets_1.difference(sets_2)\n",
    "print(result)"
   ]
  },
  {
   "cell_type": "markdown",
   "id": "e3f5cfb8-8010-4e89-8d34-fa23b90311aa",
   "metadata": {},
   "source": [
    "### Ques_12. Check if a set is a subset of another set."
   ]
  },
  {
   "cell_type": "code",
   "execution_count": 1,
   "id": "4956d3f9-de21-4832-9dec-87da0d18602c",
   "metadata": {},
   "outputs": [
    {
     "name": "stdout",
     "output_type": "stream",
     "text": [
      "True\n"
     ]
    }
   ],
   "source": [
    "sets1 = {1,2,3}\n",
    "sets2 = {1,2,3,4,5}\n",
    "subset = sets1.issubset(sets2)\n",
    "print(subset)"
   ]
  },
  {
   "cell_type": "markdown",
   "id": "b0f9a4c5-e9ae-47d6-8807-2eadc7d3257f",
   "metadata": {},
   "source": [
    "### Ques_13. Check if a set is a superset of another set."
   ]
  },
  {
   "cell_type": "code",
   "execution_count": 3,
   "id": "fedeb088-8cee-4eeb-8450-2004150b353f",
   "metadata": {},
   "outputs": [
    {
     "name": "stdout",
     "output_type": "stream",
     "text": [
      "False\n"
     ]
    }
   ],
   "source": [
    "sets1 = {1,2,3}\n",
    "sets2 = {1,2,3,4,5}\n",
    "superset = sets1.issuperset(sets2)\n",
    "print(superset)"
   ]
  },
  {
   "cell_type": "markdown",
   "id": "11495685-7829-4bb8-b2d7-9eb3acda9e88",
   "metadata": {},
   "source": [
    "### Ques_14. Create a set from a list."
   ]
  },
  {
   "cell_type": "code",
   "execution_count": 52,
   "id": "24644351-f02a-4b8e-9429-144b9363fb57",
   "metadata": {},
   "outputs": [
    {
     "name": "stdout",
     "output_type": "stream",
     "text": [
      "{1, 2, 3, 4, 5}\n"
     ]
    }
   ],
   "source": [
    "lists = [1,2,3,4,5]\n",
    "sets = set(lists)\n",
    "print(sets)"
   ]
  },
  {
   "cell_type": "markdown",
   "id": "b21ddd07-00ac-4e4f-9a9a-3df9d62f254a",
   "metadata": {},
   "source": [
    "### Ques_15. Convert a set to a list."
   ]
  },
  {
   "cell_type": "code",
   "execution_count": 53,
   "id": "c6349bd4-d337-46db-a452-27364140b49b",
   "metadata": {},
   "outputs": [
    {
     "name": "stdout",
     "output_type": "stream",
     "text": [
      "[1, 2, 3, 4, 5]\n"
     ]
    }
   ],
   "source": [
    "sets1 = {1,2,3,4,5}\n",
    "lists1 = list(sets1)\n",
    "print(lists1)"
   ]
  },
  {
   "cell_type": "markdown",
   "id": "7343e323-c16e-41ef-9d7b-05420bbc6422",
   "metadata": {},
   "source": [
    "### Ques_16. Remove a random element from a set."
   ]
  },
  {
   "cell_type": "code",
   "execution_count": 12,
   "id": "9a05d4ff-f0e6-4506-88c3-8023de8bf9e1",
   "metadata": {},
   "outputs": [
    {
     "name": "stdout",
     "output_type": "stream",
     "text": [
      "{33, 15, 17, 28, 29}\n"
     ]
    }
   ],
   "source": [
    "import random\n",
    "random_set = set(random.randint(1,50) for i in range(5))\n",
    "print(random_set)"
   ]
  },
  {
   "cell_type": "markdown",
   "id": "09f18e43-b55e-47b4-bad7-9680e30bf832",
   "metadata": {},
   "source": [
    "### Ques_17. Pop an element from a set."
   ]
  },
  {
   "cell_type": "code",
   "execution_count": 14,
   "id": "5aa47b75-de6f-4619-b22b-a0e4851e4313",
   "metadata": {},
   "outputs": [
    {
     "name": "stdout",
     "output_type": "stream",
     "text": [
      "1\n"
     ]
    }
   ],
   "source": [
    "sets2 = {1,2,3,4,5}\n",
    "pop_set = sets2.pop()\n",
    "print(pop_set)"
   ]
  },
  {
   "cell_type": "markdown",
   "id": "2d5d5603-b105-44d7-af50-fa59ea95b3a3",
   "metadata": {},
   "source": [
    "### Ques_18. Check if two sets have no elements in common."
   ]
  },
  {
   "cell_type": "code",
   "execution_count": 6,
   "id": "f3c97506-6096-4501-b660-49832fda9040",
   "metadata": {},
   "outputs": [
    {
     "name": "stdout",
     "output_type": "stream",
     "text": [
      "no same element\n"
     ]
    }
   ],
   "source": [
    "set1 = {1,2,3,4}\n",
    "set2 = {5,6,7,8}\n",
    "if set1.isdisjoint(set2):\n",
    "    print(\"no same element\")\n",
    "else :\n",
    "    print(\"yes same element\")"
   ]
  },
  {
   "cell_type": "markdown",
   "id": "b16586bd-6f5d-4c8f-b636-324c7872104b",
   "metadata": {},
   "source": [
    "### Ques_19. Find the symmetric difference between two sets."
   ]
  },
  {
   "cell_type": "code",
   "execution_count": 3,
   "id": "86ba3bec-706c-48ee-bb7b-81946aafa790",
   "metadata": {},
   "outputs": [
    {
     "name": "stdout",
     "output_type": "stream",
     "text": [
      "the symmetric difference {1, 2, 5, 6}\n"
     ]
    }
   ],
   "source": [
    "set1 = {1,2,3,4}\n",
    "set2 = {3,4,5,6}\n",
    "result = set1.symmetric_difference(set2)\n",
    "print(\"the symmetric difference\",result)"
   ]
  },
  {
   "cell_type": "markdown",
   "id": "6650bffd-123d-417b-b509-4c4b6b973e07",
   "metadata": {},
   "source": [
    "### Ques_20. Update a set with elements from another set."
   ]
  },
  {
   "cell_type": "code",
   "execution_count": 9,
   "id": "7d45dbf2-1486-4d82-acc0-8b760cfdcdd5",
   "metadata": {},
   "outputs": [
    {
     "data": {
      "text/plain": [
       "{1, 2, 3, 4, 5, 6}"
      ]
     },
     "execution_count": 9,
     "metadata": {},
     "output_type": "execute_result"
    }
   ],
   "source": [
    "set_1 = {1,2,3,4}\n",
    "set_2 = {3,4,5,6}\n",
    "set_1.update(set_2)\n",
    "set_1"
   ]
  },
  {
   "cell_type": "markdown",
   "id": "8c0deecc-5f49-4423-b4a0-f576152b58e7",
   "metadata": {},
   "source": [
    "### Ques_21. Create a set of the first 5 prime numbers."
   ]
  },
  {
   "cell_type": "code",
   "execution_count": 27,
   "id": "e0ef1752-54d3-42fd-be34-910de1896956",
   "metadata": {},
   "outputs": [
    {
     "name": "stdin",
     "output_type": "stream",
     "text": [
      "enter the number 12\n"
     ]
    },
    {
     "name": "stdout",
     "output_type": "stream",
     "text": [
      "2,3,5,7,11,"
     ]
    }
   ],
   "source": [
    "number = int(input(\"enter the number\"))\n",
    "for i in range(2,number):\n",
    "    for j in range(2,i):\n",
    "        if i%j==0 :\n",
    "            break\n",
    "            \n",
    "    else:\n",
    "        print(i,end=\",\")\n",
    "            "
   ]
  },
  {
   "cell_type": "markdown",
   "id": "47a59e47-818a-4a72-a41b-e9ddefe4e360",
   "metadata": {},
   "source": [
    "### Ques_22. Check if two sets are identical."
   ]
  },
  {
   "cell_type": "code",
   "execution_count": 30,
   "id": "925db594-6604-46da-abb8-6c01d62e3e21",
   "metadata": {},
   "outputs": [
    {
     "name": "stdout",
     "output_type": "stream",
     "text": [
      "no identical\n"
     ]
    }
   ],
   "source": [
    "s1 = {1,2,3,4}\n",
    "s2 = {1,2,3}\n",
    "if s1==s2 :\n",
    "    print(\"yes it is identical\")\n",
    "else:\n",
    "    print(\"no identical\")"
   ]
  },
  {
   "cell_type": "markdown",
   "id": "2ce4e5a5-8b9e-4a27-adc5-1442a67a7b04",
   "metadata": {},
   "source": [
    "### Ques_23. Create a frozen set."
   ]
  },
  {
   "cell_type": "code",
   "execution_count": 31,
   "id": "16e1df85-a098-4003-9a25-754b794154c5",
   "metadata": {},
   "outputs": [
    {
     "name": "stdout",
     "output_type": "stream",
     "text": [
      "frozenset({1, 2, 3, 4})\n"
     ]
    }
   ],
   "source": [
    "s1 = {1,2,3,4}\n",
    "result = frozenset(s1)\n",
    "print(result)\n"
   ]
  },
  {
   "cell_type": "markdown",
   "id": "ae69331d-177b-4e55-97f0-01f932e75647",
   "metadata": {},
   "source": [
    "### Ques_24. Check if a set is disjoint with another set."
   ]
  },
  {
   "cell_type": "code",
   "execution_count": 41,
   "id": "a308762e-f44f-4198-8cf9-ccbb4666113e",
   "metadata": {},
   "outputs": [
    {
     "name": "stdout",
     "output_type": "stream",
     "text": [
      "yes\n"
     ]
    }
   ],
   "source": [
    "s_1 = {1,2,3,4}\n",
    "s_2 = {5,6,7}\n",
    "if s_1.isdisjoint(s_2):\n",
    "    print(\"yes\")\n",
    "else:\n",
    "    print(\"no\")"
   ]
  },
  {
   "cell_type": "markdown",
   "id": "4d84a614-13a2-44c7-bbcc-53659b607947",
   "metadata": {},
   "source": [
    "### Ques_25. Create a set of squares of numbers from 1 to 5"
   ]
  },
  {
   "cell_type": "code",
   "execution_count": 42,
   "id": "de11e654-df1f-47d7-9034-83c732a55c39",
   "metadata": {},
   "outputs": [
    {
     "name": "stdout",
     "output_type": "stream",
     "text": [
      "{1, 4, 9, 16, 25}\n"
     ]
    }
   ],
   "source": [
    "num = range(1,6)\n",
    "result = set(i**2 for i in num)\n",
    "print(result)"
   ]
  },
  {
   "cell_type": "markdown",
   "id": "a10b2bee-df75-40c8-8742-400488ba3e6c",
   "metadata": {},
   "source": [
    "### Ques_26. Filter out all even numbers from a set."
   ]
  },
  {
   "cell_type": "code",
   "execution_count": 45,
   "id": "119f2d68-d6c9-4aa1-835e-0167b5fd9909",
   "metadata": {},
   "outputs": [
    {
     "name": "stdout",
     "output_type": "stream",
     "text": [
      "{2, 4, 6, 8, 10, 12, 14, 16, 18, 20}\n"
     ]
    }
   ],
   "source": [
    "sets = set(range(2,21,2))\n",
    "print(sets)"
   ]
  },
  {
   "cell_type": "markdown",
   "id": "191a6066-7fa4-4609-a6fb-f0cc053fca95",
   "metadata": {},
   "source": [
    "### Ques_27. Multiply all elements in a set by 2."
   ]
  },
  {
   "cell_type": "code",
   "execution_count": 46,
   "id": "96a91da8-7242-488d-aaee-9accd83d4282",
   "metadata": {},
   "outputs": [
    {
     "name": "stdout",
     "output_type": "stream",
     "text": [
      "{2, 4, 6, 8, 10, 12, 14, 16, 18, 20}\n"
     ]
    }
   ],
   "source": [
    "sets_11 = {1,2,3,4,5,6,7,8,9,10}\n",
    "result = set(i * 2 for i in sets_11)\n",
    "print(result)"
   ]
  },
  {
   "cell_type": "markdown",
   "id": "333cabc4-bae8-46a1-b722-b3c0702706c0",
   "metadata": {},
   "source": [
    "### Ques_28. Create a set of random numbers."
   ]
  },
  {
   "cell_type": "code",
   "execution_count": 53,
   "id": "c1eb45cd-8b4f-47e6-8f8b-8464cc631c0a",
   "metadata": {},
   "outputs": [
    {
     "name": "stdout",
     "output_type": "stream",
     "text": [
      "{2, 5, 7, 11, 16}\n"
     ]
    }
   ],
   "source": [
    "import random\n",
    "random_set = set(random.randint(1,20) for i in range(5))\n",
    "print(random_set)"
   ]
  },
  {
   "cell_type": "markdown",
   "id": "4bb59a42-b156-4172-b5d5-8acf81fe0a40",
   "metadata": {},
   "source": [
    "### Ques_29. Check if a set is empty."
   ]
  },
  {
   "cell_type": "code",
   "execution_count": 54,
   "id": "128dc588-1372-47cf-8991-8a72da5dc743",
   "metadata": {},
   "outputs": [
    {
     "name": "stdout",
     "output_type": "stream",
     "text": [
      "True\n"
     ]
    }
   ],
   "source": [
    "empty_set = {}\n",
    "result_empty = len(empty_set)==0\n",
    "print(result_empty)"
   ]
  },
  {
   "cell_type": "markdown",
   "id": "84fb2cbd-c9f8-47d8-a0f9-ab06a11c0c3d",
   "metadata": {},
   "source": [
    "### Ques_30. Create a nested set (hint: use frozenset)."
   ]
  },
  {
   "cell_type": "code",
   "execution_count": 27,
   "id": "bf173307-1d02-480e-bfa6-846a5c177a7c",
   "metadata": {},
   "outputs": [
    {
     "name": "stdout",
     "output_type": "stream",
     "text": [
      "frozenset({(1, 2, 3), (7, 8, 9, 0), (4, 5, 6)})\n"
     ]
    }
   ],
   "source": [
    "sets = {(1,2,3),(4,5,6),(7,8,9,0)}\n",
    "frozen_set = frozenset(sets)\n",
    "print(frozen_set)"
   ]
  },
  {
   "cell_type": "markdown",
   "id": "b589cd4c-bf22-41c7-a9eb-642e7ec538a5",
   "metadata": {},
   "source": [
    "### Ques_31. Remove an element from a set using the discard method."
   ]
  },
  {
   "cell_type": "code",
   "execution_count": 28,
   "id": "0c2bec62-ac11-4dc4-91b1-48e7bb02675f",
   "metadata": {},
   "outputs": [
    {
     "name": "stdout",
     "output_type": "stream",
     "text": [
      "{1, 2, 4, 5, 6, 7, 8}\n"
     ]
    }
   ],
   "source": [
    "sets_remove = {1,2,3,4,5,6,7,8}\n",
    "sets_remove.discard(3)\n",
    "print(sets_remove)"
   ]
  },
  {
   "cell_type": "markdown",
   "id": "53ab709c-011b-4320-aecc-3cb29356ab50",
   "metadata": {},
   "source": [
    "### Ques_32. Compare two sets."
   ]
  },
  {
   "cell_type": "code",
   "execution_count": 30,
   "id": "df78c60d-fa0e-4090-bbaf-dc380e19a7ef",
   "metadata": {},
   "outputs": [
    {
     "name": "stdout",
     "output_type": "stream",
     "text": [
      "True\n"
     ]
    }
   ],
   "source": [
    "set1 = {1, 2, 3}\n",
    "set2 = {3, 2, 1}\n",
    "print(set1 == set2)"
   ]
  },
  {
   "cell_type": "markdown",
   "id": "93befa47-e442-416e-8e1b-ecaefbaee794",
   "metadata": {},
   "source": [
    "### Ques_33. Create a set from a string."
   ]
  },
  {
   "cell_type": "code",
   "execution_count": 31,
   "id": "8317887a-bc89-4b0c-beac-d77c5ac8318c",
   "metadata": {},
   "outputs": [
    {
     "name": "stdout",
     "output_type": "stream",
     "text": [
      "{'python', 'pwskills', 'language'}\n"
     ]
    }
   ],
   "source": [
    "string = \"pwskills\",\"python\",\"language\"\n",
    "result_set = set(string)\n",
    "print(result_set)"
   ]
  },
  {
   "cell_type": "markdown",
   "id": "9effdebf-ab62-4d97-b20f-cf6dc9f684ed",
   "metadata": {},
   "source": [
    "### Ques_34. Convert a set of strings to a set of integers."
   ]
  },
  {
   "cell_type": "code",
   "execution_count": 38,
   "id": "4bd82841-4c0e-44c6-b6aa-3f432c61af8d",
   "metadata": {},
   "outputs": [
    {
     "name": "stdout",
     "output_type": "stream",
     "text": [
      "{1, 2, 3, 4, 5}\n"
     ]
    }
   ],
   "source": [
    "string_set = {'1','2','3','4','5'}\n",
    "int_set = set(map(int,string_set))\n",
    "print(int_set)"
   ]
  },
  {
   "cell_type": "markdown",
   "id": "5568312f-9b23-4f87-b7f0-8f171a65e1ab",
   "metadata": {},
   "source": [
    "### Ques_35. Convert a set of integers to a set of strings."
   ]
  },
  {
   "cell_type": "code",
   "execution_count": 39,
   "id": "578a55fc-d5d9-4e7b-8e24-3475baa07f88",
   "metadata": {},
   "outputs": [
    {
     "name": "stdout",
     "output_type": "stream",
     "text": [
      "{'5', '2', '4', '1', '3'}\n"
     ]
    }
   ],
   "source": [
    "set_int = {1, 2, 3, 4, 5}\n",
    "set_str = set(map(str,set_int))\n",
    "print(set_str)"
   ]
  },
  {
   "cell_type": "markdown",
   "id": "625d94c6-f9e6-47f5-bbd2-614ecaad5e51",
   "metadata": {},
   "source": [
    "### Ques_36. Create a set from a tuple."
   ]
  },
  {
   "cell_type": "code",
   "execution_count": 40,
   "id": "2b9ef3bd-7c2b-4a5d-badf-4e4166a28538",
   "metadata": {},
   "outputs": [
    {
     "name": "stdout",
     "output_type": "stream",
     "text": [
      "{1, 2, 3, 4, 5}\n"
     ]
    }
   ],
   "source": [
    "tuple_1 = (1,2,3,4,5)\n",
    "result_set1 = set(tuple_1)\n",
    "print(result_set1)"
   ]
  },
  {
   "cell_type": "markdown",
   "id": "144bd24f-5e24-486f-bdba-7e44b3b59cf1",
   "metadata": {},
   "source": [
    "### Ques_37. Convert a set to a tuple."
   ]
  },
  {
   "cell_type": "code",
   "execution_count": 41,
   "id": "2595ae74-61af-4df6-bbc1-67e2187ce677",
   "metadata": {},
   "outputs": [
    {
     "name": "stdout",
     "output_type": "stream",
     "text": [
      "(1, 2, 3, 4, 5, 6, 7)\n"
     ]
    }
   ],
   "source": [
    "sets = {1,2,3,4,5,6,7}\n",
    "tuples = tuple(sets)\n",
    "print(tuples)"
   ]
  },
  {
   "cell_type": "markdown",
   "id": "e1426e4e-64d0-416e-97b3-c76cf0b20d4f",
   "metadata": {},
   "source": [
    "### Ques_38. Find the maximum value in a set."
   ]
  },
  {
   "cell_type": "code",
   "execution_count": 42,
   "id": "ceece6af-1388-47f9-b82b-ff5b8315fdd4",
   "metadata": {},
   "outputs": [
    {
     "name": "stdout",
     "output_type": "stream",
     "text": [
      "7\n"
     ]
    }
   ],
   "source": [
    "sets = {1,2,3,4,5,6,7}\n",
    "maximun_value = max(sets)\n",
    "print(maximun_value)"
   ]
  },
  {
   "cell_type": "markdown",
   "id": "1bd4a213-5d19-4bd8-8682-b7b192035217",
   "metadata": {},
   "source": [
    "### Ques_39. Find the minimum value in a set."
   ]
  },
  {
   "cell_type": "code",
   "execution_count": 43,
   "id": "ec6d26ca-030f-416b-af23-0c85243a3b53",
   "metadata": {},
   "outputs": [
    {
     "name": "stdout",
     "output_type": "stream",
     "text": [
      "1\n"
     ]
    }
   ],
   "source": [
    "sets = {1,2,3,4,5,6,7}\n",
    "minimun_value = min(sets)\n",
    "print(minimun_value)"
   ]
  },
  {
   "cell_type": "markdown",
   "id": "246a4dd4-c52e-4d97-b0c8-93fce451d83b",
   "metadata": {},
   "source": [
    "### Ques_40. Create a set from user input."
   ]
  },
  {
   "cell_type": "code",
   "execution_count": 46,
   "id": "73cb945c-004c-4b9d-99ee-27dd2f9dc301",
   "metadata": {},
   "outputs": [
    {
     "name": "stdin",
     "output_type": "stream",
     "text": [
      "enter the value 123456\n"
     ]
    },
    {
     "name": "stdout",
     "output_type": "stream",
     "text": [
      "{'5', '2', '4', '1', '3', '6'}\n"
     ]
    }
   ],
   "source": [
    "user_input = input(\"enter the value\")\n",
    "user_set = set(user_input)\n",
    "print(user_set)"
   ]
  },
  {
   "cell_type": "markdown",
   "id": "ae330516-690c-4030-bfa9-7abaec4bf2fd",
   "metadata": {},
   "source": [
    "### Ques_41. Check if the intersection of two sets is empty."
   ]
  },
  {
   "cell_type": "code",
   "execution_count": 60,
   "id": "ce2cd2c4-97b5-4f9e-9fe4-ce881d5f9d4a",
   "metadata": {},
   "outputs": [
    {
     "name": "stdout",
     "output_type": "stream",
     "text": [
      "{1, 3, 4}\n"
     ]
    }
   ],
   "source": [
    "set_a = {1,2,3,4,5}\n",
    "set_b = {6,4,8,3,1}\n",
    "result = set_a.intersection(set_b)\n",
    "print(result)\n"
   ]
  },
  {
   "cell_type": "markdown",
   "id": "b9cbd2ff-8d40-40c8-8f57-4fcf9e6ce061",
   "metadata": {},
   "source": [
    "### Ques_42. Create a set of the first 5 Fibonacci numbers."
   ]
  },
  {
   "cell_type": "code",
   "execution_count": 69,
   "id": "308fe1d0-8159-4ffd-827e-cadf392f4562",
   "metadata": {},
   "outputs": [
    {
     "name": "stdout",
     "output_type": "stream",
     "text": [
      "fibonacci number {0, 1, 2, 3}\n"
     ]
    }
   ],
   "source": [
    "fibonacci_set = set()\n",
    "num = 5\n",
    "a = 0\n",
    "b = 1\n",
    "count = 0\n",
    "while count < num:\n",
    "    fibonacci_set.add(a)\n",
    "    c = a + b\n",
    "    a = b\n",
    "    b = c\n",
    "    count=count+1\n",
    "print(\"fibonacci number\",fibonacci_set)"
   ]
  },
  {
   "cell_type": "markdown",
   "id": "291aa923-285e-4737-9d41-b397f9006e9d",
   "metadata": {},
   "source": [
    "### Ques_43. Remove duplicates from a list using sets."
   ]
  },
  {
   "cell_type": "code",
   "execution_count": 71,
   "id": "c319cb86-9c45-44b9-81da-c23d1e7351f2",
   "metadata": {},
   "outputs": [
    {
     "name": "stdout",
     "output_type": "stream",
     "text": [
      "{1, 2, 3, 4, 5, 6, 7, 8, 9}\n"
     ]
    }
   ],
   "source": [
    "lists = [1,2,3,4,3,2,1,4,5,6,7,8,9,2,3,4]\n",
    "sets = set(lists)\n",
    "print(sets)"
   ]
  },
  {
   "cell_type": "markdown",
   "id": "e9495fc6-94ef-4de2-b8ab-ca37055052d0",
   "metadata": {},
   "source": [
    "### Ques_44. Check if two sets have the same elements, regardless of their count."
   ]
  },
  {
   "cell_type": "code",
   "execution_count": 72,
   "id": "3b76636e-7c43-4b6f-8333-490a6cafafa4",
   "metadata": {},
   "outputs": [
    {
     "name": "stdout",
     "output_type": "stream",
     "text": [
      "yes it is same element\n"
     ]
    }
   ],
   "source": [
    "s_a = {1,2,3,4,5}\n",
    "s_b = {1,2,3,4,5}\n",
    "if s_a == s_b :\n",
    "    print(\"yes it is same element\")\n",
    "else :\n",
    "    print(\"no it is not same element\")"
   ]
  },
  {
   "cell_type": "markdown",
   "id": "a29fc408-890b-434e-9b73-5c65f218f0ee",
   "metadata": {},
   "source": [
    "### Ques_45. Create a set of the first n powers of 2."
   ]
  },
  {
   "cell_type": "code",
   "execution_count": 84,
   "id": "d2c8866c-9761-457f-b827-4ff90541dca5",
   "metadata": {},
   "outputs": [
    {
     "name": "stdout",
     "output_type": "stream",
     "text": [
      "{1, 4, 9, 16, 25}\n"
     ]
    }
   ],
   "source": [
    "sets = {1,2,3,4,5}\n",
    "power = set(i**2 for i in sets)\n",
    "print(power)"
   ]
  },
  {
   "cell_type": "markdown",
   "id": "a0851929-1f9f-4595-a480-d458b78573bd",
   "metadata": {},
   "source": [
    "### Ques_46. Find the common elements between a set and a list."
   ]
  },
  {
   "cell_type": "code",
   "execution_count": 73,
   "id": "1430a1d2-9872-41dd-8b99-e11c3be3cfc2",
   "metadata": {},
   "outputs": [
    {
     "name": "stdout",
     "output_type": "stream",
     "text": [
      "{4, 5}\n"
     ]
    }
   ],
   "source": [
    "sets = {1,2,3,4,5}\n",
    "lists = [4,5,6,7,8]\n",
    "comman_element = sets.intersection(lists)\n",
    "print(comman_element)"
   ]
  },
  {
   "cell_type": "markdown",
   "id": "df3e734a-7086-48a5-a938-b74730d30825",
   "metadata": {},
   "source": [
    "\n",
    "\n",
    "### Ques_47. Create a set of the first n triangular numbers."
   ]
  },
  {
   "cell_type": "code",
   "execution_count": 89,
   "id": "c9601495-38e2-4802-aaa8-cf343bd48915",
   "metadata": {},
   "outputs": [
    {
     "name": "stdout",
     "output_type": "stream",
     "text": [
      "{1, 3, 6, 10, 15}\n"
     ]
    }
   ],
   "source": [
    "n = 5\n",
    "triangular_set =set(i * (i + 1) // 2 for i in range(1, n + 1))\n",
    "print(triangular_set)"
   ]
  },
  {
   "cell_type": "markdown",
   "id": "f09a9826-d0f7-459a-8432-b14a257285d8",
   "metadata": {},
   "source": [
    "\n",
    "\n",
    "### Ques_48. Check if a set contains another set as a subset."
   ]
  },
  {
   "cell_type": "code",
   "execution_count": 2,
   "id": "aad6fc15-5240-4ad3-a0c0-4b5dedf23bfb",
   "metadata": {},
   "outputs": [
    {
     "name": "stdout",
     "output_type": "stream",
     "text": [
      "True\n"
     ]
    }
   ],
   "source": [
    "a = {1,2,3,4,5,6,7,8}\n",
    "b = {1,2,3,4}\n",
    "result = b.issubset(a)\n",
    "print(result)"
   ]
  },
  {
   "cell_type": "markdown",
   "id": "e8b9e2f3-afb0-4ebf-b14c-dc1e7fbed7c8",
   "metadata": {},
   "source": [
    "### Ques_49. Create a set of alternating 1s and 0s of length n."
   ]
  },
  {
   "cell_type": "code",
   "execution_count": 4,
   "id": "5449df6a-62f3-445e-ac8d-035f3599f899",
   "metadata": {},
   "outputs": [
    {
     "name": "stdout",
     "output_type": "stream",
     "text": [
      "{0, 1}\n"
     ]
    }
   ],
   "source": [
    "n = 10\n",
    "alternating_set = set(1 if i % 2 == 0 else 0 for i in range(n))\n",
    "print(alternating_set)"
   ]
  },
  {
   "cell_type": "markdown",
   "id": "a431510f-e64f-4630-bf05-e6559e5fd9b1",
   "metadata": {},
   "source": [
    "### Ques_50. Merge multiple sets into one."
   ]
  },
  {
   "cell_type": "code",
   "execution_count": 5,
   "id": "604bc533-1036-4b44-aa25-578b52ee7ffd",
   "metadata": {},
   "outputs": [
    {
     "name": "stdout",
     "output_type": "stream",
     "text": [
      "{0, 1, 2, 3, 4, 5, 6, 7, 8, 9}\n"
     ]
    }
   ],
   "source": [
    "set_a = {1,2,3,4,5}\n",
    "set_2 = {6,7,8,9,0}\n",
    "merge_set = set_a.union(set_2)\n",
    "print(merge_set)"
   ]
  },
  {
   "cell_type": "code",
   "execution_count": null,
   "id": "935feb11-3931-47c4-a645-c0b17b4d7b4f",
   "metadata": {},
   "outputs": [],
   "source": []
  }
 ],
 "metadata": {
  "kernelspec": {
   "display_name": "Python 3 (ipykernel)",
   "language": "python",
   "name": "python3"
  },
  "language_info": {
   "codemirror_mode": {
    "name": "ipython",
    "version": 3
   },
   "file_extension": ".py",
   "mimetype": "text/x-python",
   "name": "python",
   "nbconvert_exporter": "python",
   "pygments_lexer": "ipython3",
   "version": "3.10.8"
  }
 },
 "nbformat": 4,
 "nbformat_minor": 5
}
